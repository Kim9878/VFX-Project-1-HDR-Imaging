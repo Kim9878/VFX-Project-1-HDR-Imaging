{
 "cells": [
  {
   "cell_type": "code",
   "execution_count": 1,
   "id": "western-infrared",
   "metadata": {},
   "outputs": [],
   "source": [
    "import numpy as np\n",
    "import cv2\n",
    "import os"
   ]
  },
  {
   "cell_type": "markdown",
   "id": "published-optimum",
   "metadata": {},
   "source": [
    "## Load Images"
   ]
  },
  {
   "cell_type": "code",
   "execution_count": 2,
   "id": "saving-maldives",
   "metadata": {},
   "outputs": [],
   "source": [
    "img_root = './images'\n",
    "align_img_root = './align_images'\n",
    "img_names = ['1.jpg', '2.jpg']\n",
    "# img_names = ['test_1.png', 'test_2.png']"
   ]
  },
  {
   "cell_type": "code",
   "execution_count": 3,
   "id": "manual-orbit",
   "metadata": {},
   "outputs": [],
   "source": [
    "src_imgs = []\n",
    "for img_name in img_names:\n",
    "    img = cv2.imread(os.path.join(img_root, img_name))\n",
    "    src_imgs.append(img)"
   ]
  },
  {
   "cell_type": "markdown",
   "id": "visible-hardwood",
   "metadata": {},
   "source": [
    "## Median Threshold Bitmap Algorithm"
   ]
  },
  {
   "cell_type": "code",
   "execution_count": 4,
   "id": "under-compatibility",
   "metadata": {},
   "outputs": [],
   "source": [
    "def getBitmap(img):\n",
    "    img = img.astype(np.float32) / 255\n",
    "    gray_img = (54*img[:, :, 2] + 183*img[:, :, 1] + 19*img[:, :, 0]) / 256\n",
    "    median = np.median(gray_img)\n",
    "    binary_img = (gray_img > median) * 1.0\n",
    "    mask_img = np.invert(cv2.inRange(gray_img, median-0.0156, median+0.0156).astype(bool)) * 1.0\n",
    "    return binary_img, mask_img"
   ]
  },
  {
   "cell_type": "code",
   "execution_count": 5,
   "id": "crude-exchange",
   "metadata": {},
   "outputs": [],
   "source": [
    "def bitmapShift(img, xs, ys):\n",
    "    h, w = img.shape[:2]\n",
    "    M = np.float32([[1, 0, xs], [0, 1, ys]])\n",
    "    shift_img = cv2.warpAffine(img, M, (w, h))\n",
    "    return shift_img"
   ]
  },
  {
   "cell_type": "code",
   "execution_count": 6,
   "id": "figured-samba",
   "metadata": {},
   "outputs": [],
   "source": [
    "def getShift(img1, img2, shift_bits):\n",
    "    \n",
    "    if shift_bits > 0:\n",
    "        h, w = img1.shape[:2]\n",
    "        sm_h, sm_w = int(h/2), int(w/2)\n",
    "        sm_img1 = cv2.resize(img1, (sm_w, sm_h))\n",
    "        sm_img2 = cv2.resize(img2, (sm_w, sm_h))\n",
    "        cur_shift = getShift(sm_img1, sm_img2, shift_bits-1)\n",
    "        cur_shift = 2 * cur_shift\n",
    "    else:\n",
    "        cur_shift = np.zeros([2], dtype=int)\n",
    "    \n",
    "    min_err = np.inf\n",
    "    best_shift = cur_shift\n",
    "    binary_img1, mask1 = getBitmap(img1)\n",
    "    binary_img2, mask2 = getBitmap(img2)\n",
    "    row, col = np.mgrid[-1:2, -1:2]\n",
    "    for i, j in zip(row.reshape(-1,), col.reshape(-1,)):\n",
    "        ys, xs = cur_shift[0]+i, cur_shift[1]+j\n",
    "        shift_img2 = bitmapShift(binary_img2.copy(), xs, ys)\n",
    "        shift_mask2 = bitmapShift(mask2.copy(), xs, ys)\n",
    "        diff_b = cv2.bitwise_xor(binary_img1, shift_img2)\n",
    "        diff_b = cv2.bitwise_and(diff_b, mask1)\n",
    "        diff_b = cv2.bitwise_and(diff_b, shift_mask2)\n",
    "        err = np.sum(diff_b)\n",
    "        if err < min_err:\n",
    "            min_err = err\n",
    "            best_shift[0] = ys\n",
    "            best_shift[1] = xs\n",
    "    return best_shift"
   ]
  },
  {
   "cell_type": "markdown",
   "id": "aggregate-mortality",
   "metadata": {},
   "source": [
    "## Start Aiigning"
   ]
  },
  {
   "cell_type": "code",
   "execution_count": 7,
   "id": "superb-reduction",
   "metadata": {},
   "outputs": [
    {
     "name": "stdout",
     "output_type": "stream",
     "text": [
      "-20 -6\n"
     ]
    }
   ],
   "source": [
    "align_imgs = [src_imgs[0]]\n",
    "for src_img in src_imgs[1:]:\n",
    "    ys, xs = getShift(src_imgs[0], src_img, 6)\n",
    "    print(xs, ys)\n",
    "    align_img = bitmapShift(src_img, xs, ys)\n",
    "    align_imgs.append(align_img)"
   ]
  },
  {
   "cell_type": "code",
   "execution_count": 8,
   "id": "improved-display",
   "metadata": {},
   "outputs": [
    {
     "data": {
      "text/plain": [
       "-1"
      ]
     },
     "execution_count": 8,
     "metadata": {},
     "output_type": "execute_result"
    }
   ],
   "source": [
    "cv2.imshow('img', align_imgs[0])\n",
    "cv2.imshow('img2', align_imgs[1])\n",
    "cv2.waitKey(0)"
   ]
  },
  {
   "cell_type": "markdown",
   "id": "macro-virtue",
   "metadata": {},
   "source": [
    "## Blend Two Images to Check Alignment Effect"
   ]
  },
  {
   "cell_type": "code",
   "execution_count": null,
   "id": "oriental-series",
   "metadata": {},
   "outputs": [],
   "source": [
    "blend_img = (align_imgs[0].astype(np.float32))/255 * 0.5 + (align_imgs[1].astype(np.float32))/255 * 0.5\n",
    "cv2.imshow('img', blend_img)\n",
    "cv2.waitKey(0)"
   ]
  },
  {
   "cell_type": "markdown",
   "id": "naked-shift",
   "metadata": {},
   "source": [
    "## Save Aligned Result"
   ]
  },
  {
   "cell_type": "code",
   "execution_count": null,
   "id": "functional-cartoon",
   "metadata": {},
   "outputs": [],
   "source": [
    "for align_img, img_name in zip(align_imgs, img_names):\n",
    "    cv2.imwrite(os.path.join(align_img_root, img_name), align_img)"
   ]
  },
  {
   "cell_type": "code",
   "execution_count": null,
   "id": "criminal-crest",
   "metadata": {},
   "outputs": [],
   "source": []
  },
  {
   "cell_type": "code",
   "execution_count": null,
   "id": "revolutionary-interview",
   "metadata": {},
   "outputs": [],
   "source": []
  },
  {
   "cell_type": "markdown",
   "id": "interior-ribbon",
   "metadata": {
    "tags": []
   },
   "source": [
    "## OpenCV Official Implementation"
   ]
  },
  {
   "cell_type": "code",
   "execution_count": null,
   "id": "weird-indonesian",
   "metadata": {},
   "outputs": [],
   "source": [
    "alignMTB = cv2.createAlignMTB()\n",
    "alignMTB.process(src_imgs, src_imgs)"
   ]
  },
  {
   "cell_type": "code",
   "execution_count": null,
   "id": "beginning-month",
   "metadata": {},
   "outputs": [],
   "source": [
    "cv2.imshow('img', src_imgs[0])\n",
    "cv2.imshow('img2', src_imgs[1])\n",
    "cv2.waitKey(0)"
   ]
  },
  {
   "cell_type": "code",
   "execution_count": null,
   "id": "upper-allen",
   "metadata": {},
   "outputs": [],
   "source": []
  }
 ],
 "metadata": {
  "kernelspec": {
   "display_name": "Python 3",
   "language": "python",
   "name": "python3"
  },
  "language_info": {
   "codemirror_mode": {
    "name": "ipython",
    "version": 3
   },
   "file_extension": ".py",
   "mimetype": "text/x-python",
   "name": "python",
   "nbconvert_exporter": "python",
   "pygments_lexer": "ipython3",
   "version": "3.7.10"
  }
 },
 "nbformat": 4,
 "nbformat_minor": 5
}
