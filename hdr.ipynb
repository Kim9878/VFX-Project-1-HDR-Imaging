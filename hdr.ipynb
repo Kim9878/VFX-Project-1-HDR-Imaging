{
 "cells": [
  {
   "cell_type": "code",
   "execution_count": 1,
   "id": "superior-application",
   "metadata": {},
   "outputs": [],
   "source": [
    "import os\n",
    "import cv2\n",
    "import numpy as np\n",
    "from PIL import Image\n",
    "from PIL.ExifTags import TAGS\n",
    "import matplotlib.pyplot as plt"
   ]
  },
  {
   "cell_type": "code",
   "execution_count": 2,
   "id": "religious-bulgarian",
   "metadata": {},
   "outputs": [],
   "source": [
    "img_root = './HDR-master/test_image/1'\n",
    "img_names = ['DSC_0765.JPG', 'DSC_0766.JPG', 'DSC_0767.JPG', \\\n",
    "             'DSC_0768.JPG', 'DSC_0769.JPG', 'DSC_0770.JPG', \\\n",
    "             'DSC_0771.JPG', 'DSC_0772.JPG', 'DSC_0773.JPG', \\\n",
    "             'DSC_0774.JPG']\n",
    "\n",
    "N = 50\n",
    "l = 10"
   ]
  },
  {
   "cell_type": "code",
   "execution_count": 3,
   "id": "measured-liverpool",
   "metadata": {},
   "outputs": [],
   "source": [
    "def getExif(img_path, tag):\n",
    "    img = Image.open(img_path)\n",
    "    exifdata = img.getexif()\n",
    "    for tag_id in exifdata:\n",
    "        tag_name = TAGS.get(tag_id, tag_id)\n",
    "        if tag_name == tag:\n",
    "            data = exifdata.get(tag_id)\n",
    "            if isinstance(data, bytes):\n",
    "                data = data.decode()\n",
    "            return data\n",
    "    return None"
   ]
  },
  {
   "cell_type": "code",
   "execution_count": 4,
   "id": "peripheral-simpson",
   "metadata": {},
   "outputs": [],
   "source": [
    "src_imgs = []\n",
    "for img_name in img_names:\n",
    "    src_img = cv2.imread(os.path.join(img_root, img_name))\n",
    "    src_imgs.append(src_img)"
   ]
  },
  {
   "cell_type": "code",
   "execution_count": 5,
   "id": "entitled-charter",
   "metadata": {},
   "outputs": [],
   "source": [
    "exposure_times = []\n",
    "for img_name in img_names:\n",
    "    exposure_time = getExif(os.path.join(img_root, img_name), \"ExposureTime\")\n",
    "    exposure_times.append(float(exposure_time))"
   ]
  },
  {
   "cell_type": "code",
   "execution_count": 6,
   "id": "wicked-burton",
   "metadata": {},
   "outputs": [],
   "source": [
    "def gsolve(Z, B, l, w):\n",
    "    n = 256\n",
    "    N, P = Z.shape[:2]\n",
    "    \n",
    "    A = np.zeros([N*P+n+1, n+N])\n",
    "    b = np.zeros([A.shape[0], 1])\n",
    "    \n",
    "    # include the data-fitting equations\n",
    "    k = 0\n",
    "    for i in range(N):\n",
    "        for j in range(P):\n",
    "            wij = w[Z[i, j]]\n",
    "            A[k, Z[i, j]] = wij\n",
    "            A[k, n+i] = -wij\n",
    "            b[k, 0] = wij * B[j]\n",
    "            k = k + 1\n",
    "    \n",
    "    # fix the curve by setting its middle value to 0\n",
    "    A[k, 127] = 1\n",
    "    k = k + 1\n",
    "    \n",
    "    # include the smoothness equations\n",
    "    for i in range(n-2):\n",
    "        A[k, i] = l * w[i+1]\n",
    "        A[k, i+1] = -2 * l * w[i+1]\n",
    "        A[k, i+2] = l * w[i+1]\n",
    "        k = k + 1\n",
    "    \n",
    "    # solve the system using SVD\n",
    "    x = np.linalg.lstsq(A, b)[0]\n",
    "    g = x[:n]\n",
    "    lE = x[n+1:]\n",
    "    \n",
    "    return g, lE"
   ]
  },
  {
   "cell_type": "code",
   "execution_count": 15,
   "id": "revolutionary-midwest",
   "metadata": {},
   "outputs": [],
   "source": [
    "def genlE(Z, B, g, w):\n",
    "    P, height, width = Z.shape\n",
    "    Z = Z.reshape([P, -1])\n",
    "    lE = np.zeros([height * width]);\n",
    "    for i in range(Z.shape[1]):\n",
    "        n, d = 0, 0\n",
    "        for j in range(P):\n",
    "            z = Z[j][i]\n",
    "            n += w[z] * (g[z] - B[j])\n",
    "            d += w[z]\n",
    "        lE[i] = n / d if d > 0 else n\n",
    "    lE = lE.reshape([height, width])\n",
    "    return lE"
   ]
  },
  {
   "cell_type": "code",
   "execution_count": 8,
   "id": "athletic-garlic",
   "metadata": {},
   "outputs": [],
   "source": [
    "height, width = src_imgs[0].shape[:2]\n",
    "sample_index = np.random.randint(min(height, width), size=(N, 2))"
   ]
  },
  {
   "cell_type": "code",
   "execution_count": 9,
   "id": "arctic-collector",
   "metadata": {},
   "outputs": [],
   "source": [
    "Z = np.zeros([N, len(src_imgs), 3])\n",
    "for i in range(N):\n",
    "    for j in range(len(src_imgs)):\n",
    "        Z[i][j] = src_imgs[j][sample_index[i][0], sample_index[i][1]]\n",
    "Z = Z.astype(int)\n",
    "\n",
    "w = np.zeros([256])\n",
    "for i in range(256):\n",
    "    if i <= 127:\n",
    "        w[i] = i\n",
    "    else:\n",
    "        w[i] = 255 - i"
   ]
  },
  {
   "cell_type": "markdown",
   "id": "velvet-norway",
   "metadata": {},
   "source": [
    "## Calculate R Channel"
   ]
  },
  {
   "cell_type": "code",
   "execution_count": 10,
   "id": "cooked-template",
   "metadata": {},
   "outputs": [
    {
     "name": "stderr",
     "output_type": "stream",
     "text": [
      "c:\\users\\yiting\\anaconda3\\envs\\3dcv\\lib\\site-packages\\ipykernel_launcher.py:30: FutureWarning: `rcond` parameter will change to the default of machine precision times ``max(M, N)`` where M and N are the input matrix dimensions.\n",
      "To use the future default and silence this warning we advise to pass `rcond=None`, to keep using the old, explicitly pass `rcond=-1`.\n"
     ]
    }
   ],
   "source": [
    "Z_r = Z[:, :, 2]\n",
    "g_r, _ = gsolve(Z_r, np.log(exposure_times), l, w)"
   ]
  },
  {
   "cell_type": "markdown",
   "id": "addressed-freeze",
   "metadata": {},
   "source": [
    "## Calculate G Channel"
   ]
  },
  {
   "cell_type": "code",
   "execution_count": 11,
   "id": "bacterial-meter",
   "metadata": {},
   "outputs": [
    {
     "name": "stderr",
     "output_type": "stream",
     "text": [
      "c:\\users\\yiting\\anaconda3\\envs\\3dcv\\lib\\site-packages\\ipykernel_launcher.py:30: FutureWarning: `rcond` parameter will change to the default of machine precision times ``max(M, N)`` where M and N are the input matrix dimensions.\n",
      "To use the future default and silence this warning we advise to pass `rcond=None`, to keep using the old, explicitly pass `rcond=-1`.\n"
     ]
    }
   ],
   "source": [
    "Z_g = Z[:, :, 1]\n",
    "g_g, _ = gsolve(Z_g, np.log(exposure_times), l, w)"
   ]
  },
  {
   "cell_type": "markdown",
   "id": "focused-bidding",
   "metadata": {},
   "source": [
    "## Calculate B Channel"
   ]
  },
  {
   "cell_type": "code",
   "execution_count": 12,
   "id": "grand-arbitration",
   "metadata": {},
   "outputs": [
    {
     "name": "stderr",
     "output_type": "stream",
     "text": [
      "c:\\users\\yiting\\anaconda3\\envs\\3dcv\\lib\\site-packages\\ipykernel_launcher.py:30: FutureWarning: `rcond` parameter will change to the default of machine precision times ``max(M, N)`` where M and N are the input matrix dimensions.\n",
      "To use the future default and silence this warning we advise to pass `rcond=None`, to keep using the old, explicitly pass `rcond=-1`.\n"
     ]
    }
   ],
   "source": [
    "Z_b = Z[:, :, 0]\n",
    "g_b, _ = gsolve(Z_b, np.log(exposure_times), l, w)"
   ]
  },
  {
   "cell_type": "markdown",
   "id": "mounted-major",
   "metadata": {},
   "source": [
    "## Plot Curves"
   ]
  },
  {
   "cell_type": "code",
   "execution_count": 13,
   "id": "loaded-functionality",
   "metadata": {},
   "outputs": [
    {
     "data": {
      "image/png": "[encoded data removed]",
      "text/plain": [
       "<Figure size 432x288 with 1 Axes>"
      ]
     },
     "metadata": {
      "needs_background": "light"
     },
     "output_type": "display_data"
    }
   ],
   "source": [
    "x_axis = [i for i in range(0, 256)]\n",
    "plt.figure()\n",
    "plt.plot(x_axis, g_r, label='r channel', color='r')\n",
    "plt.plot(x_axis, g_g, label='g channel', color='g')\n",
    "plt.plot(x_axis, g_b, label='b channel', color='b')\n",
    "plt.xlabel('pixel value')\n",
    "plt.ylabel('log exposure')\n",
    "plt.show()"
   ]
  },
  {
   "cell_type": "markdown",
   "id": "recognized-enclosure",
   "metadata": {},
   "source": [
    "## Generate HDR Image"
   ]
  },
  {
   "cell_type": "code",
   "execution_count": 16,
   "id": "existing-vegetation",
   "metadata": {},
   "outputs": [],
   "source": [
    "imgs = np.array(src_imgs)\n",
    "Z_r = imgs[:, :, :, 2]\n",
    "lE_r = genlE(Z_r.copy(), np.log(exposure_times), g_r, w)"
   ]
  },
  {
   "cell_type": "code",
   "execution_count": 17,
   "id": "micro-salem",
   "metadata": {},
   "outputs": [],
   "source": [
    "Z_g = imgs[:, :, :, 1]\n",
    "lE_g = genlE(Z_g.copy(), np.log(exposure_times), g_g, w)"
   ]
  },
  {
   "cell_type": "code",
   "execution_count": 40,
   "id": "arranged-tokyo",
   "metadata": {},
   "outputs": [],
   "source": [
    "Z_b = imgs[:, :, :, 0]\n",
    "lE_b = genlE(Z_b.copy(), np.log(exposure_times), g_b, w)"
   ]
  },
  {
   "cell_type": "code",
   "execution_count": 45,
   "id": "improving-turning",
   "metadata": {},
   "outputs": [
    {
     "name": "stdout",
     "output_type": "stream",
     "text": [
      "19308.291458140833\n"
     ]
    }
   ],
   "source": [
    "E = np.zeros([height, width, 3])\n",
    "E[:, :, 0] = lE_b\n",
    "E[:, :, 1] = lE_g\n",
    "E[:, :, 2] = lE_r\n",
    "E = np.exp(E)"
   ]
  },
  {
   "cell_type": "code",
   "execution_count": 47,
   "id": "atmospheric-savage",
   "metadata": {},
   "outputs": [
    {
     "data": {
      "text/plain": [
       "True"
      ]
     },
     "execution_count": 47,
     "metadata": {},
     "output_type": "execute_result"
    }
   ],
   "source": [
    "cv2.imwrite('./output/1.hdr', E)"
   ]
  },
  {
   "cell_type": "code",
   "execution_count": null,
   "id": "exact-liquid",
   "metadata": {},
   "outputs": [],
   "source": []
  },
  {
   "cell_type": "code",
   "execution_count": null,
   "id": "neutral-mistress",
   "metadata": {},
   "outputs": [],
   "source": []
  },
  {
   "cell_type": "code",
   "execution_count": null,
   "id": "varying-massachusetts",
   "metadata": {},
   "outputs": [],
   "source": []
  },
  {
   "cell_type": "markdown",
   "id": "younger-personality",
   "metadata": {},
   "source": [
    "## Test HDR"
   ]
  },
  {
   "cell_type": "code",
   "execution_count": 48,
   "id": "prostate-adelaide",
   "metadata": {},
   "outputs": [
    {
     "name": "stdout",
     "output_type": "stream",
     "text": [
      "41216.0 0.0\n",
      "1.0 0.0\n"
     ]
    },
    {
     "data": {
      "text/plain": [
       "-1"
      ]
     },
     "execution_count": 48,
     "metadata": {},
     "output_type": "execute_result"
    }
   ],
   "source": [
    "hdr = cv2.imread('./HDR-master/test_image/1/result/result.hdr', flags = cv2.IMREAD_ANYDEPTH)\n",
    "print(np.max(hdr), np.min(hdr))\n",
    "\n",
    "hdr1 = cv2.imread('./output/1.hdr', flags = cv2.IMREAD_ANYDEPTH)\n",
    "print(np.max(hdr1), np.min(hdr1))\n",
    "cv2.imshow('hdr', hdr1)\n",
    "cv2.waitKey(0)"
   ]
  },
  {
   "cell_type": "code",
   "execution_count": null,
   "id": "activated-thumb",
   "metadata": {},
   "outputs": [],
   "source": []
  }
 ],
 "metadata": {
  "kernelspec": {
   "display_name": "Python 3",
   "language": "python",
   "name": "python3"
  },
  "language_info": {
   "codemirror_mode": {
    "name": "ipython",
    "version": 3
   },
   "file_extension": ".py",
   "mimetype": "text/x-python",
   "name": "python",
   "nbconvert_exporter": "python",
   "pygments_lexer": "ipython3",
   "version": "3.7.10"
  }
 },
 "nbformat": 4,
 "nbformat_minor": 5
}
