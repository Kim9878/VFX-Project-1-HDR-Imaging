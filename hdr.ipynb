{
 "cells": [
  {
   "cell_type": "code",
   "execution_count": 1,
   "id": "narrative-harvey",
   "metadata": {},
   "outputs": [],
   "source": [
    "import os\n",
    "import cv2\n",
    "import numpy as np\n",
    "from PIL import Image\n",
    "from PIL.ExifTags import TAGS\n",
    "import matplotlib.pyplot as plt\n",
    "from tqdm import tqdm"
   ]
  },
  {
   "cell_type": "code",
   "execution_count": 2,
   "id": "tribal-worst",
   "metadata": {},
   "outputs": [],
   "source": [
    "img_root = './HDR-master/test_image/1'\n",
    "img_names = ['DSC_0765.JPG', 'DSC_0766.JPG', 'DSC_0767.JPG', \\\n",
    "             'DSC_0768.JPG', 'DSC_0769.JPG', 'DSC_0770.JPG', \\\n",
    "             'DSC_0771.JPG', 'DSC_0772.JPG', 'DSC_0773.JPG', \\\n",
    "             'DSC_0774.JPG']\n",
    "\n",
    "N = 50\n",
    "l = 10"
   ]
  },
  {
   "cell_type": "code",
   "execution_count": 3,
   "id": "turkish-track",
   "metadata": {},
   "outputs": [],
   "source": [
    "def getExif(img_path, tag):\n",
    "    img = Image.open(img_path)\n",
    "    exifdata = img.getexif()\n",
    "    for tag_id in exifdata:\n",
    "        tag_name = TAGS.get(tag_id, tag_id)\n",
    "        if tag_name == tag:\n",
    "            data = exifdata.get(tag_id)\n",
    "            if isinstance(data, bytes):\n",
    "                data = data.decode()\n",
    "            return data\n",
    "    return None"
   ]
  },
  {
   "cell_type": "code",
   "execution_count": 4,
   "id": "dutch-albert",
   "metadata": {},
   "outputs": [],
   "source": [
    "src_imgs = []\n",
    "for img_name in img_names:\n",
    "    src_img = cv2.imread(os.path.join(img_root, img_name))\n",
    "    src_imgs.append(src_img)"
   ]
  },
  {
   "cell_type": "code",
   "execution_count": 5,
   "id": "rising-polyester",
   "metadata": {},
   "outputs": [],
   "source": [
    "exposure_times = []\n",
    "for img_name in img_names:\n",
    "    exposure_time = getExif(os.path.join(img_root, img_name), \"ExposureTime\")\n",
    "    exposure_times.append(float(exposure_time))"
   ]
  },
  {
   "cell_type": "code",
   "execution_count": 6,
   "id": "considered-render",
   "metadata": {},
   "outputs": [],
   "source": [
    "def gsolve(Z, B, l, w):\n",
    "    n = 256\n",
    "    N, P = Z.shape[:2]\n",
    "    \n",
    "    A = np.zeros([N*P+n+1, n+N])\n",
    "    b = np.zeros([A.shape[0], 1])\n",
    "    \n",
    "    # include the data-fitting equations\n",
    "    k = 0\n",
    "    for i in range(N):\n",
    "        for j in range(P):\n",
    "            wij = w[Z[i, j]]\n",
    "            A[k, Z[i, j]] = wij\n",
    "            A[k, n+i] = -wij\n",
    "            b[k, 0] = wij * B[j]\n",
    "            k = k + 1\n",
    "    \n",
    "    # fix the curve by setting its middle value to 0\n",
    "    A[k, 127] = 1\n",
    "    k = k + 1\n",
    "    \n",
    "    # include the smoothness equations\n",
    "    for i in range(n-2):\n",
    "        A[k, i] = l * w[i+1]\n",
    "        A[k, i+1] = -2 * l * w[i+1]\n",
    "        A[k, i+2] = l * w[i+1]\n",
    "        k = k + 1\n",
    "    \n",
    "    # solve the system using SVD\n",
    "    x = np.linalg.lstsq(A, b)[0]\n",
    "    g = x[:n]\n",
    "    lE = x[n+1:]\n",
    "    \n",
    "    return g, lE"
   ]
  },
  {
   "cell_type": "code",
   "execution_count": 7,
   "id": "wanted-welding",
   "metadata": {},
   "outputs": [],
   "source": [
    "def genlE(Z, B, g, w):\n",
    "    P, height, width = Z.shape\n",
    "    Z = Z.reshape([P, -1])\n",
    "    lE = np.zeros([height * width]);\n",
    "    for i in range(Z.shape[1]):\n",
    "        n, d = 0, 0\n",
    "        for j in range(P):\n",
    "            z = Z[j][i]\n",
    "            n += w[z] * (g[z] - B[j])\n",
    "            d += w[z]\n",
    "        lE[i] = n / d if d > 0 else n\n",
    "    lE = lE.reshape([height, width])\n",
    "    return lE"
   ]
  },
  {
   "cell_type": "code",
   "execution_count": 8,
   "id": "threaded-marks",
   "metadata": {},
   "outputs": [],
   "source": [
    "height, width = src_imgs[0].shape[:2]\n",
    "sample_index = np.random.randint(min(height, width), size=(N, 2))"
   ]
  },
  {
   "cell_type": "code",
   "execution_count": 9,
   "id": "banner-basics",
   "metadata": {},
   "outputs": [],
   "source": [
    "Z = np.zeros([N, len(src_imgs), 3])\n",
    "for i in range(N):\n",
    "    for j in range(len(src_imgs)):\n",
    "        Z[i][j] = src_imgs[j][sample_index[i][0], sample_index[i][1]]\n",
    "Z = Z.astype(int)\n",
    "\n",
    "w = np.zeros([256])\n",
    "for i in range(256):\n",
    "    if i <= 127:\n",
    "        w[i] = i\n",
    "    else:\n",
    "        w[i] = 255 - i"
   ]
  },
  {
   "cell_type": "markdown",
   "id": "governing-london",
   "metadata": {},
   "source": [
    "## Calculate R Channel"
   ]
  },
  {
   "cell_type": "code",
   "execution_count": 10,
   "id": "unnecessary-equilibrium",
   "metadata": {},
   "outputs": [
    {
     "name": "stderr",
     "output_type": "stream",
     "text": [
      "c:\\users\\yiting\\anaconda3\\envs\\3dcv\\lib\\site-packages\\ipykernel_launcher.py:30: FutureWarning: `rcond` parameter will change to the default of machine precision times ``max(M, N)`` where M and N are the input matrix dimensions.\n",
      "To use the future default and silence this warning we advise to pass `rcond=None`, to keep using the old, explicitly pass `rcond=-1`.\n"
     ]
    }
   ],
   "source": [
    "Z_r = Z[:, :, 2]\n",
    "g_r, _ = gsolve(Z_r, np.log(exposure_times), l, w)"
   ]
  },
  {
   "cell_type": "markdown",
   "id": "useful-sensitivity",
   "metadata": {},
   "source": [
    "## Calculate G Channel"
   ]
  },
  {
   "cell_type": "code",
   "execution_count": 11,
   "id": "lesser-lloyd",
   "metadata": {},
   "outputs": [
    {
     "name": "stderr",
     "output_type": "stream",
     "text": [
      "c:\\users\\yiting\\anaconda3\\envs\\3dcv\\lib\\site-packages\\ipykernel_launcher.py:30: FutureWarning: `rcond` parameter will change to the default of machine precision times ``max(M, N)`` where M and N are the input matrix dimensions.\n",
      "To use the future default and silence this warning we advise to pass `rcond=None`, to keep using the old, explicitly pass `rcond=-1`.\n"
     ]
    }
   ],
   "source": [
    "Z_g = Z[:, :, 1]\n",
    "g_g, _ = gsolve(Z_g, np.log(exposure_times), l, w)"
   ]
  },
  {
   "cell_type": "markdown",
   "id": "royal-format",
   "metadata": {},
   "source": [
    "## Calculate B Channel"
   ]
  },
  {
   "cell_type": "code",
   "execution_count": 12,
   "id": "illegal-relation",
   "metadata": {},
   "outputs": [
    {
     "name": "stderr",
     "output_type": "stream",
     "text": [
      "c:\\users\\yiting\\anaconda3\\envs\\3dcv\\lib\\site-packages\\ipykernel_launcher.py:30: FutureWarning: `rcond` parameter will change to the default of machine precision times ``max(M, N)`` where M and N are the input matrix dimensions.\n",
      "To use the future default and silence this warning we advise to pass `rcond=None`, to keep using the old, explicitly pass `rcond=-1`.\n"
     ]
    }
   ],
   "source": [
    "Z_b = Z[:, :, 0]\n",
    "g_b, _ = gsolve(Z_b, np.log(exposure_times), l, w)"
   ]
  },
  {
   "cell_type": "markdown",
   "id": "fourth-glasgow",
   "metadata": {},
   "source": [
    "## Plot Curves"
   ]
  },
  {
   "cell_type": "code",
   "execution_count": 13,
   "id": "sized-steps",
   "metadata": {},
   "outputs": [
    {
     "data": {
      "image/png": "[encoded data removed]",
      "text/plain": [
       "<Figure size 432x288 with 1 Axes>"
      ]
     },
     "metadata": {
      "needs_background": "light"
     },
     "output_type": "display_data"
    }
   ],
   "source": [
    "x_axis = [i for i in range(0, 256)]\n",
    "plt.figure()\n",
    "plt.plot(x_axis, g_r, label='r channel', color='r')\n",
    "plt.plot(x_axis, g_g, label='g channel', color='g')\n",
    "plt.plot(x_axis, g_b, label='b channel', color='b')\n",
    "plt.xlabel('pixel value')\n",
    "plt.ylabel('log exposure')\n",
    "plt.show()"
   ]
  },
  {
   "cell_type": "markdown",
   "id": "checked-skiing",
   "metadata": {},
   "source": [
    "## Generate HDR Image"
   ]
  },
  {
   "cell_type": "code",
   "execution_count": 14,
   "id": "colored-keeping",
   "metadata": {},
   "outputs": [],
   "source": [
    "imgs = np.array(src_imgs)\n",
    "Z_r = imgs[:, :, :, 2]\n",
    "lE_r = genlE(Z_r.copy(), np.log(exposure_times), g_r, w)"
   ]
  },
  {
   "cell_type": "code",
   "execution_count": 15,
   "id": "treated-spencer",
   "metadata": {},
   "outputs": [],
   "source": [
    "Z_g = imgs[:, :, :, 1]\n",
    "lE_g = genlE(Z_g.copy(), np.log(exposure_times), g_g, w)"
   ]
  },
  {
   "cell_type": "code",
   "execution_count": 16,
   "id": "talented-exhibit",
   "metadata": {},
   "outputs": [],
   "source": [
    "Z_b = imgs[:, :, :, 0]\n",
    "lE_b = genlE(Z_b.copy(), np.log(exposure_times), g_b, w)"
   ]
  },
  {
   "cell_type": "code",
   "execution_count": 17,
   "id": "gothic-transmission",
   "metadata": {},
   "outputs": [],
   "source": [
    "E = np.zeros([height, width, 3])\n",
    "E[:, :, 0] = lE_b\n",
    "E[:, :, 1] = lE_g\n",
    "E[:, :, 2] = lE_r\n",
    "E = np.exp(E)"
   ]
  },
  {
   "cell_type": "code",
   "execution_count": 18,
   "id": "controlled-popularity",
   "metadata": {},
   "outputs": [
    {
     "data": {
      "text/plain": [
       "Text(0.5, 1.0, 'Radiance Map')"
      ]
     },
     "execution_count": 18,
     "metadata": {},
     "output_type": "execute_result"
    },
    {
     "data": {
      "image/png": "[encoded data removed]",
      "text/plain": [
       "<Figure size 432x288 with 2 Axes>"
      ]
     },
     "metadata": {
      "needs_background": "light"
     },
     "output_type": "display_data"
    }
   ],
   "source": [
    "plt.imshow(E[:, :, 0], origin=\"lower\", cmap='rainbow', interpolation='nearest')\n",
    "# plt.clim(np.min(E[:, :, 0]), 1000)\n",
    "plt.gca().invert_yaxis()\n",
    "plt.colorbar()\n",
    "plt.title(\"Radiance Map\")"
   ]
  },
  {
   "cell_type": "code",
   "execution_count": 19,
   "id": "crucial-valley",
   "metadata": {},
   "outputs": [
    {
     "data": {
      "text/plain": [
       "True"
      ]
     },
     "execution_count": 19,
     "metadata": {},
     "output_type": "execute_result"
    }
   ],
   "source": [
    "cv2.imwrite('./output/1.hdr', E)"
   ]
  },
  {
   "cell_type": "markdown",
   "id": "independent-divorce",
   "metadata": {},
   "source": [
    "## Tone Mapping"
   ]
  },
  {
   "cell_type": "code",
   "execution_count": 55,
   "id": "honey-entrepreneur",
   "metadata": {},
   "outputs": [],
   "source": [
    "def gaussian(x, sig):\n",
    "    return np.exp(-np.power(x, 2.) / (2 * np.power(sig, 2.))) * (1.0 / (2 * np.pi * (sig ** 2)))"
   ]
  },
  {
   "cell_type": "code",
   "execution_count": 74,
   "id": "senior-homework",
   "metadata": {},
   "outputs": [],
   "source": [
    "def output_rescale_all(image, origin_images, W):\n",
    "    b, g, r = cv2.split(image)\n",
    "    mean_image = np.zeros((image.shape[0], image.shape[1], 3))\n",
    "    print(\"------------ rescaling output ------------\")\n",
    "    for i in tqdm(range(image.shape[0])):\n",
    "        for j in range(image.shape[1]):\n",
    "            for k in range(3):\n",
    "                wsum = 0\n",
    "                pixelvalue = 0\n",
    "                for l in range(len(origin_images)):\n",
    "                    w = W[origin_images[l][i, j, k]]\n",
    "                    pixelvalue += w * origin_images[l][i, j, k]\n",
    "                    wsum += w\n",
    "                mean_image[i, j, k] = pixelvalue / wsum\n",
    "    b2, g2, r2 = cv2.split(mean_image)\n",
    "    b *= np.nanmean(b2) / np.nanmean(b)\n",
    "    g *= np.nanmean(g2) / np.nanmean(g)\n",
    "    r *= np.nanmean(r2) / np.nanmean(r)\n",
    "    image = cv2.merge((b,g,r))\n",
    "    return image"
   ]
  },
  {
   "cell_type": "code",
   "execution_count": 57,
   "id": "institutional-invitation",
   "metadata": {},
   "outputs": [],
   "source": [
    "def bilateral_filter(log_intensity, x, y, filter_size=5):\n",
    "    k = 0\n",
    "    output = 0\n",
    "    sigma_g = 2000\n",
    "    sigma_f = 1000\n",
    "    for i in range(filter_size):\n",
    "        for j in range(filter_size):\n",
    "            movei = i - filter_size // 2\n",
    "            movej = j - filter_size // 2\n",
    "            if x + movei >= log_intensity.shape[0] or x + movei < 0 or y + movej >= log_intensity.shape[1] or y + movej < 0:\n",
    "                continue\n",
    "            f = gaussian(np.sqrt(movei ** 2 + movej ** 2), sigma_f)\n",
    "            g = gaussian(log_intensity[x][y] - log_intensity[x + movei][y + movej], sigma_g)\n",
    "            k += f * g\n",
    "            output += f * g * log_intensity[x + movei][y + movej]\n",
    "    output = output/k\n",
    "    return output"
   ]
  },
  {
   "cell_type": "code",
   "execution_count": 58,
   "id": "raised-coordinate",
   "metadata": {},
   "outputs": [],
   "source": [
    "def bilateral(img, compression=0.8):\n",
    "    intensity = 0.0722*img[:, :, 0] + 0.7152*img[:, :, 1] + 0.2126*img[:, :, 2]\n",
    "    log_intensity = np.log(intensity)\n",
    "    log_large_scale = np.zeros(log_intensity.shape)\n",
    "    print(\"------------ tone mapping ------------\")\n",
    "    for i in tqdm(range(log_large_scale.shape[0])):\n",
    "        for j in range(log_large_scale.shape[1]):\n",
    "            log_large_scale[i, j] = bilateral_filter(log_intensity, i, j)\n",
    "    log_detail = log_intensity - log_large_scale\n",
    "    log_output = log_large_scale * compression + log_detail\n",
    "    output = np.zeros((img.shape[0], img.shape[1], 3))\n",
    "    output[:, :, 0] = img[:, :, 0]/intensity * np.exp(log_output)\n",
    "    output[:, :, 1] = img[:, :, 1]/intensity * np.exp(log_output)\n",
    "    output[:, :, 2] = img[:, :, 2]/intensity * np.exp(log_output)\n",
    "    return output"
   ]
  },
  {
   "cell_type": "code",
   "execution_count": 59,
   "id": "breathing-colorado",
   "metadata": {},
   "outputs": [
    {
     "name": "stderr",
     "output_type": "stream",
     "text": [
      "  0%|                                                                                         | 0/1000 [00:00<?, ?it/s]"
     ]
    },
    {
     "name": "stdout",
     "output_type": "stream",
     "text": [
      "------------ tone mapping ------------\n"
     ]
    },
    {
     "name": "stderr",
     "output_type": "stream",
     "text": [
      "100%|██████████████████████████████████████████████████████████████████████████████| 1000/1000 [06:28<00:00,  2.57it/s]\n"
     ]
    }
   ],
   "source": [
    "output = bilateral(E)\n",
    "for i in range(3):\n",
    "    output[:, :, i] = cv2.normalize(output[:, :, i], np.array([]), alpha=0, beta=255, norm_type=cv2.NORM_MINMAX)"
   ]
  },
  {
   "cell_type": "code",
   "execution_count": 75,
   "id": "massive-retreat",
   "metadata": {},
   "outputs": [
    {
     "name": "stderr",
     "output_type": "stream",
     "text": [
      "  0%|▍                                                                                | 5/1000 [00:00<00:24, 41.25it/s]"
     ]
    },
    {
     "name": "stdout",
     "output_type": "stream",
     "text": [
      "------------ rescaling output ------------\n"
     ]
    },
    {
     "name": "stderr",
     "output_type": "stream",
     "text": [
      "  9%|███████▏                                                                        | 90/1000 [00:02<00:22, 40.64it/s]c:\\users\\yiting\\anaconda3\\envs\\3dcv\\lib\\site-packages\\ipykernel_launcher.py:14: RuntimeWarning: invalid value encountered in double_scalars\n",
      "  \n",
      "100%|██████████████████████████████████████████████████████████████████████████████| 1000/1000 [00:24<00:00, 40.70it/s]\n"
     ]
    }
   ],
   "source": [
    "outputimg = output_rescale_all(output, src_imgs, w)"
   ]
  },
  {
   "cell_type": "code",
   "execution_count": 78,
   "id": "dramatic-atlas",
   "metadata": {},
   "outputs": [
    {
     "data": {
      "text/plain": [
       "-1"
      ]
     },
     "execution_count": 78,
     "metadata": {},
     "output_type": "execute_result"
    }
   ],
   "source": [
    "cv2.imshow('tonemapping', outputimg/255)\n",
    "cv2.waitKey(0)"
   ]
  },
  {
   "cell_type": "code",
   "execution_count": 79,
   "id": "proved-survival",
   "metadata": {},
   "outputs": [
    {
     "data": {
      "text/plain": [
       "True"
      ]
     },
     "execution_count": 79,
     "metadata": {},
     "output_type": "execute_result"
    }
   ],
   "source": [
    "cv2.imwrite('output/1.png', outputimg)"
   ]
  },
  {
   "cell_type": "code",
   "execution_count": 49,
   "id": "specialized-admission",
   "metadata": {},
   "outputs": [],
   "source": [
    "# def durand_bilateral(hdr):\n",
    "#     ldr = np.zeros_like(hdr)\n",
    "\n",
    "#     b, g, r = 1, 40, 20\n",
    "\n",
    "#     Lw = (hdr[:, :, 0] * b + hdr[:, :, 1] * g + hdr[:, :, 2] * r) / (b + g + r)\n",
    "#     log_Lw = np.log10(Lw)\n",
    "#     log_base = cv2.bilateralFilter(log_Lw, 5, 15, 15)\n",
    "#     log_detail = log_Lw - log_base\n",
    "\n",
    "#     cf = np.log10(5) / (np.max(log_base) - np.min(log_base)) # compression factor\n",
    "#     log_absolute_scale = np.max(log_base) * cf\n",
    "#     log_Ld = log_base*cf + log_detail - log_absolute_scale\n",
    "#     Ld = np.power(10, log_Ld)\n",
    "\n",
    "#     ldr[:, :, 0] = (hdr[:, :, 0] / Lw) * Ld\n",
    "#     ldr[:, :, 1] = (hdr[:, :, 1] / Lw) * Ld\n",
    "#     ldr[:, :, 2] = (hdr[:, :, 2] / Lw) * Ld\n",
    "\n",
    "#     ldr = np.clip((ldr ** 0.3) * 255, 0, 255)\n",
    "\n",
    "#     return ldr.astype(np.uint8)"
   ]
  },
  {
   "cell_type": "code",
   "execution_count": 50,
   "id": "substantial-detector",
   "metadata": {},
   "outputs": [],
   "source": [
    "# ldr = durand_bilateral(E.astype(np.float32))"
   ]
  },
  {
   "cell_type": "code",
   "execution_count": 51,
   "id": "retired-personal",
   "metadata": {},
   "outputs": [
    {
     "data": {
      "text/plain": [
       "-1"
      ]
     },
     "execution_count": 51,
     "metadata": {},
     "output_type": "execute_result"
    }
   ],
   "source": [
    "# cv2.imshow('ldr', ldr)\n",
    "# cv2.waitKey(0)"
   ]
  },
  {
   "cell_type": "markdown",
   "id": "educated-arizona",
   "metadata": {},
   "source": [
    "# Test OpenCV Tone Mapping Function"
   ]
  },
  {
   "cell_type": "code",
   "execution_count": 18,
   "id": "retired-soldier",
   "metadata": {},
   "outputs": [],
   "source": [
    "def toneMappingReinhard(hdrImg):\n",
    "    tonemapReinhard = cv2.createTonemapReinhard(0.9,4,1,0) # gama, intensity, light_adapt, color_adapt\n",
    "    ldrReinhard = tonemapReinhard.process(hdrImg)\n",
    "    # Plot hdr images\n",
    "    ldrReinhard_rgb=ldrReinhard[:,:,::-1]\n",
    "    #fig5=plt.figure().suptitle('tone-mapped HDR image')\n",
    "    #plt.imshow(ldrReinhard_rgb)\n",
    "    subfig = plt.subplot(2,2,3)\n",
    "    subfig.set_title(\"Reinhard\")\n",
    "    subfig.imshow(ldrReinhard_rgb)\n",
    "    return ldrReinhard"
   ]
  },
  {
   "cell_type": "code",
   "execution_count": 22,
   "id": "aggressive-discharge",
   "metadata": {},
   "outputs": [
    {
     "data": {
      "image/png": "[encoded data removed]",
      "text/plain": [
       "<Figure size 432x288 with 1 Axes>"
      ]
     },
     "metadata": {
      "needs_background": "light"
     },
     "output_type": "display_data"
    }
   ],
   "source": [
    "img = toneMappingReinhard(E.astype(np.float32))"
   ]
  }
 ],
 "metadata": {
  "kernelspec": {
   "display_name": "Python 3",
   "language": "python",
   "name": "python3"
  },
  "language_info": {
   "codemirror_mode": {
    "name": "ipython",
    "version": 3
   },
   "file_extension": ".py",
   "mimetype": "text/x-python",
   "name": "python",
   "nbconvert_exporter": "python",
   "pygments_lexer": "ipython3",
   "version": "3.7.10"
  }
 },
 "nbformat": 4,
 "nbformat_minor": 5
}
