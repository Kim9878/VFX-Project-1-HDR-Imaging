{
 "cells": [
  {
   "cell_type": "code",
   "execution_count": 1,
   "id": "gothic-badge",
   "metadata": {},
   "outputs": [],
   "source": [
    "import os\n",
    "import cv2\n",
    "import numpy as np\n",
    "from PIL import Image\n",
    "from PIL.ExifTags import TAGS\n",
    "import matplotlib.pyplot as plt\n",
    "from tqdm import tqdm"
   ]
  },
  {
   "cell_type": "code",
   "execution_count": 2,
   "id": "characteristic-diagnosis",
   "metadata": {},
   "outputs": [],
   "source": [
    "img_root = './images/5'\n",
    "img_names = ['DSC04206.JPG', 'DSC04207.JPG', 'DSC04208.JPG', \\\n",
    "             'DSC04209.JPG', 'DSC04210.JPG', 'DSC04211.JPG', \\\n",
    "             'DSC04212.JPG', 'DSC04213.JPG', 'DSC04214.JPG', \\\n",
    "             'DSC04215.JPG', 'DSC04217.JPG']\n",
    "\n",
    "output_root = './output/5'\n",
    "os.makedirs(output_root, exist_ok=True)\n",
    "\n",
    "N = 50\n",
    "l = 100"
   ]
  },
  {
   "cell_type": "code",
   "execution_count": 3,
   "id": "emerging-peripheral",
   "metadata": {},
   "outputs": [],
   "source": [
    "def getExif(img_path, tag):\n",
    "    img = Image.open(img_path)\n",
    "    exifdata = img.getexif()\n",
    "    for tag_id in exifdata:\n",
    "        tag_name = TAGS.get(tag_id, tag_id)\n",
    "        if tag_name == tag:\n",
    "            data = exifdata.get(tag_id)\n",
    "            if isinstance(data, bytes):\n",
    "                data = data.decode()\n",
    "            return data\n",
    "    return None"
   ]
  },
  {
   "cell_type": "code",
   "execution_count": 4,
   "id": "continental-norwegian",
   "metadata": {},
   "outputs": [],
   "source": [
    "def gsolve(Z, B, l, w):\n",
    "    n = 256\n",
    "    N, P = Z.shape[:2]\n",
    "    \n",
    "    A = np.zeros([N*P+n+1, n+N])\n",
    "    b = np.zeros([A.shape[0], 1])\n",
    "    \n",
    "    # include the data-fitting equations\n",
    "    k = 0\n",
    "    for i in range(N):\n",
    "        for j in range(P):\n",
    "            wij = w[Z[i, j]]\n",
    "            A[k, Z[i, j]] = wij\n",
    "            A[k, n+i] = -wij\n",
    "            b[k, 0] = wij * B[j]\n",
    "            k = k + 1\n",
    "    \n",
    "    # fix the curve by setting its middle value to 0\n",
    "    A[k, 127] = 1\n",
    "    k = k + 1\n",
    "    \n",
    "    # include the smoothness equations\n",
    "    for i in range(n-2):\n",
    "        A[k, i] = l * w[i+1]\n",
    "        A[k, i+1] = -2 * l * w[i+1]\n",
    "        A[k, i+2] = l * w[i+1]\n",
    "        k = k + 1\n",
    "    \n",
    "    # solve the system using SVD\n",
    "    x = np.linalg.lstsq(A, b)[0]\n",
    "    g = x[:n].flatten()\n",
    "    lE = x[n+1:].flatten()\n",
    "    \n",
    "    return g, lE"
   ]
  },
  {
   "cell_type": "code",
   "execution_count": 5,
   "id": "pursuant-durham",
   "metadata": {},
   "outputs": [],
   "source": [
    "def genlE(Z, B, g, w):\n",
    "    P, height, width = Z.shape\n",
    "    d = np.sum(w[Z], axis=0)\n",
    "    n = np.sum(w[Z] * (g[Z] - B.reshape(P, 1, 1)), axis=0)\n",
    "    d[d <= 0] = 1\n",
    "    lE = (n / d).reshape([height, width])\n",
    "    return lE"
   ]
  },
  {
   "cell_type": "code",
   "execution_count": 6,
   "id": "early-astrology",
   "metadata": {},
   "outputs": [],
   "source": [
    "src_imgs = []\n",
    "for img_name in img_names:\n",
    "    src_img = cv2.imread(os.path.join(img_root, img_name))\n",
    "    src_imgs.append(src_img)"
   ]
  },
  {
   "cell_type": "code",
   "execution_count": 7,
   "id": "working-uruguay",
   "metadata": {},
   "outputs": [],
   "source": [
    "exposure_times = []\n",
    "for img_name in img_names:\n",
    "    exposure_time = getExif(os.path.join(img_root, img_name), \"ExposureTime\")\n",
    "    exposure_times.append(float(exposure_time))"
   ]
  },
  {
   "cell_type": "code",
   "execution_count": 8,
   "id": "international-consequence",
   "metadata": {},
   "outputs": [],
   "source": [
    "height, width = src_imgs[0].shape[:2]\n",
    "sample_index = np.random.randint(min(height, width), size=(N, 2))"
   ]
  },
  {
   "cell_type": "code",
   "execution_count": 9,
   "id": "vital-regular",
   "metadata": {},
   "outputs": [],
   "source": [
    "Z = np.zeros([N, len(src_imgs), 3])\n",
    "for i in range(N):\n",
    "    for j in range(len(src_imgs)):\n",
    "        Z[i][j] = src_imgs[j][sample_index[i][0], sample_index[i][1]]\n",
    "Z = Z.astype(int)\n",
    "\n",
    "w = np.zeros([256])\n",
    "for i in range(256):\n",
    "    if i <= 127:\n",
    "        w[i] = i\n",
    "    else:\n",
    "        w[i] = 255 - i"
   ]
  },
  {
   "cell_type": "markdown",
   "id": "burning-north",
   "metadata": {},
   "source": [
    "## Calculate R Channel"
   ]
  },
  {
   "cell_type": "code",
   "execution_count": 10,
   "id": "brutal-ceiling",
   "metadata": {},
   "outputs": [
    {
     "name": "stderr",
     "output_type": "stream",
     "text": [
      "c:\\users\\yiting\\anaconda3\\envs\\3dcv\\lib\\site-packages\\ipykernel_launcher.py:30: FutureWarning: `rcond` parameter will change to the default of machine precision times ``max(M, N)`` where M and N are the input matrix dimensions.\n",
      "To use the future default and silence this warning we advise to pass `rcond=None`, to keep using the old, explicitly pass `rcond=-1`.\n"
     ]
    }
   ],
   "source": [
    "Z_r = Z[:, :, 2]\n",
    "g_r, _ = gsolve(Z_r, np.log(exposure_times), l, w)"
   ]
  },
  {
   "cell_type": "markdown",
   "id": "electoral-stereo",
   "metadata": {},
   "source": [
    "## Calculate G Channel"
   ]
  },
  {
   "cell_type": "code",
   "execution_count": 11,
   "id": "composed-blood",
   "metadata": {},
   "outputs": [
    {
     "name": "stderr",
     "output_type": "stream",
     "text": [
      "c:\\users\\yiting\\anaconda3\\envs\\3dcv\\lib\\site-packages\\ipykernel_launcher.py:30: FutureWarning: `rcond` parameter will change to the default of machine precision times ``max(M, N)`` where M and N are the input matrix dimensions.\n",
      "To use the future default and silence this warning we advise to pass `rcond=None`, to keep using the old, explicitly pass `rcond=-1`.\n"
     ]
    }
   ],
   "source": [
    "Z_g = Z[:, :, 1]\n",
    "g_g, _ = gsolve(Z_g, np.log(exposure_times), l, w)"
   ]
  },
  {
   "cell_type": "markdown",
   "id": "forbidden-hierarchy",
   "metadata": {},
   "source": [
    "## Calculate B Channel"
   ]
  },
  {
   "cell_type": "code",
   "execution_count": 12,
   "id": "northern-assets",
   "metadata": {},
   "outputs": [
    {
     "name": "stderr",
     "output_type": "stream",
     "text": [
      "c:\\users\\yiting\\anaconda3\\envs\\3dcv\\lib\\site-packages\\ipykernel_launcher.py:30: FutureWarning: `rcond` parameter will change to the default of machine precision times ``max(M, N)`` where M and N are the input matrix dimensions.\n",
      "To use the future default and silence this warning we advise to pass `rcond=None`, to keep using the old, explicitly pass `rcond=-1`.\n"
     ]
    }
   ],
   "source": [
    "Z_b = Z[:, :, 0]\n",
    "g_b, _ = gsolve(Z_b, np.log(exposure_times), l, w)"
   ]
  },
  {
   "cell_type": "markdown",
   "id": "virtual-remedy",
   "metadata": {},
   "source": [
    "## Plot Curves"
   ]
  },
  {
   "cell_type": "code",
   "execution_count": 13,
   "id": "mineral-despite",
   "metadata": {},
   "outputs": [
    {
     "data": {
      "image/png": "[encoded data removed]",
      "text/plain": [
       "<Figure size 432x288 with 1 Axes>"
      ]
     },
     "metadata": {
      "needs_background": "light"
     },
     "output_type": "display_data"
    }
   ],
   "source": [
    "x_axis = [i for i in range(0, 256)]\n",
    "plt.figure()\n",
    "plt.plot(x_axis, g_r, label='r channel', color='r')\n",
    "plt.plot(x_axis, g_g, label='g channel', color='g')\n",
    "plt.plot(x_axis, g_b, label='b channel', color='b')\n",
    "plt.xlabel('pixel value')\n",
    "plt.ylabel('log exposure')\n",
    "plt.savefig(os.path.join(output_root, 'curve.png'))\n",
    "plt.show()"
   ]
  },
  {
   "cell_type": "markdown",
   "id": "adopted-glucose",
   "metadata": {},
   "source": [
    "## Generate HDR Image"
   ]
  },
  {
   "cell_type": "code",
   "execution_count": 14,
   "id": "north-trustee",
   "metadata": {},
   "outputs": [],
   "source": [
    "imgs = np.array(src_imgs)\n",
    "Z_r = imgs[:, :, :, 2]\n",
    "lE_r = genlE(Z_r.copy(), np.log(exposure_times), g_r, w)"
   ]
  },
  {
   "cell_type": "code",
   "execution_count": 15,
   "id": "interstate-cooperation",
   "metadata": {},
   "outputs": [],
   "source": [
    "Z_g = imgs[:, :, :, 1]\n",
    "lE_g = genlE(Z_g.copy(), np.log(exposure_times), g_g, w)"
   ]
  },
  {
   "cell_type": "code",
   "execution_count": 16,
   "id": "provincial-participation",
   "metadata": {},
   "outputs": [],
   "source": [
    "Z_b = imgs[:, :, :, 0]\n",
    "lE_b = genlE(Z_b.copy(), np.log(exposure_times), g_b, w)"
   ]
  },
  {
   "cell_type": "code",
   "execution_count": 17,
   "id": "instrumental-productivity",
   "metadata": {},
   "outputs": [],
   "source": [
    "E = np.zeros([height, width, 3], dtype=np.float32)\n",
    "E[:, :, 0] = lE_b\n",
    "E[:, :, 1] = lE_g\n",
    "E[:, :, 2] = lE_r\n",
    "E = np.exp(E)"
   ]
  },
  {
   "cell_type": "code",
   "execution_count": 18,
   "id": "particular-portsmouth",
   "metadata": {},
   "outputs": [
    {
     "data": {
      "text/plain": [
       "Text(0.5, 1.0, 'Radiance Map')"
      ]
     },
     "execution_count": 18,
     "metadata": {},
     "output_type": "execute_result"
    },
    {
     "data": {
      "image/png": "[encoded data removed]",
      "text/plain": [
       "<Figure size 432x288 with 2 Axes>"
      ]
     },
     "metadata": {
      "needs_background": "light"
     },
     "output_type": "display_data"
    }
   ],
   "source": [
    "plt.imshow(E[:, :, 0], origin=\"lower\", cmap='rainbow', interpolation='nearest')\n",
    "# plt.clim(np.min(E[:, :, 0]), 1000)\n",
    "plt.gca().invert_yaxis()\n",
    "plt.colorbar()\n",
    "plt.title(\"Radiance Map\")"
   ]
  },
  {
   "cell_type": "code",
   "execution_count": 19,
   "id": "naughty-paris",
   "metadata": {},
   "outputs": [
    {
     "data": {
      "text/plain": [
       "True"
      ]
     },
     "execution_count": 19,
     "metadata": {},
     "output_type": "execute_result"
    }
   ],
   "source": [
    "cv2.imwrite(os.path.join(output_root, 'hdr.hdr'), E)"
   ]
  },
  {
   "cell_type": "markdown",
   "id": "quality-estonia",
   "metadata": {},
   "source": [
    "## Tone Mapping"
   ]
  },
  {
   "cell_type": "code",
   "execution_count": 20,
   "id": "acknowledged-macintosh",
   "metadata": {},
   "outputs": [],
   "source": [
    "def rescaleOutput(img, src_imgs, w):\n",
    "    src_imgs = np.array(src_imgs)\n",
    "    P, height, width, channels = src_imgs.shape\n",
    "    mean = np.sum(w[src_imgs] * src_imgs, axis=0) / (np.sum(w[src_imgs], axis=0) + 1e-6)\n",
    "    rescale_img = (img * np.nanmean(mean, axis=tuple(range(mean.ndim-1))) / np.nanmean(img, axis=tuple(range(img.ndim-1)))).reshape([height, width, 3]) / 255\n",
    "    rescale_img = (np.clip(rescale_img, 0, 1) * 255).astype(np.uint8)\n",
    "    return rescale_img "
   ]
  },
  {
   "cell_type": "code",
   "execution_count": 21,
   "id": "trying-violin",
   "metadata": {},
   "outputs": [],
   "source": [
    "def bilateralFilter(log_intensity, filter_size=5):\n",
    "    def gaussian(x, mu, sig):\n",
    "        return 1. / (np.sqrt(2. * np.pi) * sig) * np.exp(-np.power((x - mu) / sig, 2.) / 2)\n",
    "    \n",
    "    sig_f, sig_g = 1000., 2000.\n",
    "    win_size = filter_size // 2\n",
    "    output = np.zeros_like(log_intensity)\n",
    "    k = np.zeros_like(log_intensity)\n",
    "    for shift_y in range(-win_size, win_size+1):\n",
    "        for shift_x in range(-win_size, win_size+1):\n",
    "            f = gaussian(np.sqrt(shift_x ** 2 + shift_y ** 2), 0, sig_f)\n",
    "            offsets = np.roll(log_intensity, [shift_y, shift_x], axis=[0, 1])\n",
    "            g = gaussian(log_intensity-offsets, 0, sig_g)\n",
    "            total_weight = f * g\n",
    "            output += offsets * total_weight\n",
    "            k += total_weight\n",
    "    output /= k\n",
    "    return output"
   ]
  },
  {
   "cell_type": "code",
   "execution_count": 22,
   "id": "coordinated-distribution",
   "metadata": {},
   "outputs": [],
   "source": [
    "def durand_bilateral(hdr, compression=0.8, filter_size=5):\n",
    "    h, w, c = hdr.shape\n",
    "    intensity = 0.0722 * hdr[:, :, 0] + 0.7152 * hdr[:, :, 1] + 0.2126 * hdr[:, :, 2]\n",
    "    log_intensity = np.log(intensity)\n",
    "    log_large_scale = bilateralFilter(log_intensity, filter_size)\n",
    "    log_detail = log_intensity - log_large_scale\n",
    "    log_output = log_large_scale * compression + log_detail\n",
    "    ldr = hdr / intensity.reshape([h, w, 1]) * np.exp(log_output).reshape([h, w, 1])\n",
    "    ldr = cv2.normalize(ldr, np.array([]), alpha=0, beta=255, norm_type=cv2.NORM_MINMAX)\n",
    "    return ldr"
   ]
  },
  {
   "cell_type": "code",
   "execution_count": 23,
   "id": "further-intranet",
   "metadata": {},
   "outputs": [],
   "source": [
    "ldr = durand_bilateral(E)\n",
    "ldr = rescaleOutput(ldr, src_imgs, w)"
   ]
  },
  {
   "cell_type": "code",
   "execution_count": 24,
   "id": "postal-australian",
   "metadata": {},
   "outputs": [
    {
     "data": {
      "text/plain": [
       "True"
      ]
     },
     "execution_count": 24,
     "metadata": {},
     "output_type": "execute_result"
    }
   ],
   "source": [
    "cv2.imwrite(os.path.join(output_root, 'ldr.png'), ldr)"
   ]
  },
  {
   "cell_type": "code",
   "execution_count": null,
   "id": "floating-midnight",
   "metadata": {},
   "outputs": [],
   "source": []
  }
 ],
 "metadata": {
  "kernelspec": {
   "display_name": "Python 3",
   "language": "python",
   "name": "python3"
  },
  "language_info": {
   "codemirror_mode": {
    "name": "ipython",
    "version": 3
   },
   "file_extension": ".py",
   "mimetype": "text/x-python",
   "name": "python",
   "nbconvert_exporter": "python",
   "pygments_lexer": "ipython3",
   "version": "3.7.10"
  }
 },
 "nbformat": 4,
 "nbformat_minor": 5
}
