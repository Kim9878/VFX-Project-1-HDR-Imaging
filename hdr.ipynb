{
 "cells": [
  {
   "cell_type": "code",
   "execution_count": 1,
   "id": "enormous-episode",
   "metadata": {},
   "outputs": [],
   "source": [
    "import os\n",
    "import cv2\n",
    "import numpy as np\n",
    "from PIL import Image\n",
    "from PIL.ExifTags import TAGS\n",
    "import matplotlib.pyplot as plt"
   ]
  },
  {
   "cell_type": "code",
   "execution_count": 2,
   "id": "noticed-intention",
   "metadata": {},
   "outputs": [],
   "source": [
    "img_root = './HDR-master/test_image/1'\n",
    "img_names = ['DSC_0765.JPG', 'DSC_0766.JPG', 'DSC_0767.JPG', \\\n",
    "             'DSC_0768.JPG', 'DSC_0769.JPG', 'DSC_0770.JPG', \\\n",
    "             'DSC_0771.JPG', 'DSC_0772.JPG', 'DSC_0773.JPG', \\\n",
    "             'DSC_0774.JPG']\n",
    "\n",
    "N = 50\n",
    "l = 10"
   ]
  },
  {
   "cell_type": "code",
   "execution_count": 3,
   "id": "supreme-smooth",
   "metadata": {},
   "outputs": [],
   "source": [
    "def getExif(img_path, tag):\n",
    "    img = Image.open(img_path)\n",
    "    exifdata = img.getexif()\n",
    "    for tag_id in exifdata:\n",
    "        tag_name = TAGS.get(tag_id, tag_id)\n",
    "        if tag_name == tag:\n",
    "            data = exifdata.get(tag_id)\n",
    "            if isinstance(data, bytes):\n",
    "                data = data.decode()\n",
    "            return data\n",
    "    return None"
   ]
  },
  {
   "cell_type": "code",
   "execution_count": 4,
   "id": "alike-flour",
   "metadata": {},
   "outputs": [],
   "source": [
    "src_imgs = []\n",
    "for img_name in img_names:\n",
    "    src_img = cv2.imread(os.path.join(img_root, img_name))\n",
    "    src_imgs.append(src_img)"
   ]
  },
  {
   "cell_type": "code",
   "execution_count": 5,
   "id": "competent-saskatchewan",
   "metadata": {},
   "outputs": [],
   "source": [
    "exposure_times = []\n",
    "for img_name in img_names:\n",
    "    exposure_time = getExif(os.path.join(img_root, img_name), \"ExposureTime\")\n",
    "    exposure_times.append(float(exposure_time))"
   ]
  },
  {
   "cell_type": "code",
   "execution_count": 6,
   "id": "inside-terminal",
   "metadata": {},
   "outputs": [],
   "source": [
    "def gsolve(Z, B, l, w):\n",
    "    n = 256\n",
    "    N, P = Z.shape[:2]\n",
    "    \n",
    "    A = np.zeros([N*P+n+1, n+N])\n",
    "    b = np.zeros([A.shape[0], 1])\n",
    "    \n",
    "    # include the data-fitting equations\n",
    "    k = 0\n",
    "    for i in range(N):\n",
    "        for j in range(P):\n",
    "            wij = w[Z[i, j]]\n",
    "            A[k, Z[i, j]] = wij\n",
    "            A[k, n+i] = -wij\n",
    "            b[k, 0] = wij * B[j]\n",
    "            k = k + 1\n",
    "    \n",
    "    # fix the curve by setting its middle value to 0\n",
    "    A[k, 127] = 1\n",
    "    k = k + 1\n",
    "    \n",
    "    # include the smoothness equations\n",
    "    for i in range(n-2):\n",
    "        A[k, i] = l * w[i+1]\n",
    "        A[k, i+1] = -2 * l * w[i+1]\n",
    "        A[k, i+2] = l * w[i+1]\n",
    "        k = k + 1\n",
    "    \n",
    "    # solve the system using SVD\n",
    "    x = np.linalg.lstsq(A, b)[0]\n",
    "    g = x[:n]\n",
    "    lE = x[n+1:]\n",
    "    \n",
    "    return g, lE"
   ]
  },
  {
   "cell_type": "code",
   "execution_count": 7,
   "id": "front-passion",
   "metadata": {},
   "outputs": [],
   "source": [
    "height, width = src_imgs[0].shape[:2]\n",
    "sample_index = np.random.randint(min(height, width), size=(N, 2))"
   ]
  },
  {
   "cell_type": "code",
   "execution_count": 8,
   "id": "warming-bahamas",
   "metadata": {},
   "outputs": [],
   "source": [
    "Z = np.zeros([N, len(src_imgs), 3])\n",
    "for i in range(N):\n",
    "    for j in range(len(src_imgs)):\n",
    "        Z[i][j] = src_imgs[j][sample_index[i][0], sample_index[i][1]]\n",
    "Z = Z.astype(int)\n",
    "\n",
    "w = np.zeros([256])\n",
    "for i in range(256):\n",
    "    if i <= 127:\n",
    "        w[i] = i\n",
    "    else:\n",
    "        w[i] = 255 - i"
   ]
  },
  {
   "cell_type": "markdown",
   "id": "exclusive-assets",
   "metadata": {},
   "source": [
    "## Calculate R Channel"
   ]
  },
  {
   "cell_type": "code",
   "execution_count": 9,
   "id": "responsible-sterling",
   "metadata": {},
   "outputs": [
    {
     "name": "stderr",
     "output_type": "stream",
     "text": [
      "c:\\users\\yiting\\anaconda3\\envs\\3dcv\\lib\\site-packages\\ipykernel_launcher.py:30: FutureWarning: `rcond` parameter will change to the default of machine precision times ``max(M, N)`` where M and N are the input matrix dimensions.\n",
      "To use the future default and silence this warning we advise to pass `rcond=None`, to keep using the old, explicitly pass `rcond=-1`.\n"
     ]
    }
   ],
   "source": [
    "Z_r = Z[:, :, 2]\n",
    "g_r, _ = gsolve(Z_r, np.log(exposure_times), l, w)"
   ]
  },
  {
   "cell_type": "markdown",
   "id": "directed-christian",
   "metadata": {},
   "source": [
    "## Calculate G Channel"
   ]
  },
  {
   "cell_type": "code",
   "execution_count": 10,
   "id": "raising-fossil",
   "metadata": {},
   "outputs": [
    {
     "name": "stderr",
     "output_type": "stream",
     "text": [
      "c:\\users\\yiting\\anaconda3\\envs\\3dcv\\lib\\site-packages\\ipykernel_launcher.py:30: FutureWarning: `rcond` parameter will change to the default of machine precision times ``max(M, N)`` where M and N are the input matrix dimensions.\n",
      "To use the future default and silence this warning we advise to pass `rcond=None`, to keep using the old, explicitly pass `rcond=-1`.\n"
     ]
    }
   ],
   "source": [
    "Z_g = Z[:, :, 1]\n",
    "g_g, _ = gsolve(Z_g, np.log(exposure_times), l, w)"
   ]
  },
  {
   "cell_type": "markdown",
   "id": "driven-minutes",
   "metadata": {},
   "source": [
    "## Calculate B Channel"
   ]
  },
  {
   "cell_type": "code",
   "execution_count": 11,
   "id": "unlikely-generic",
   "metadata": {},
   "outputs": [
    {
     "name": "stderr",
     "output_type": "stream",
     "text": [
      "c:\\users\\yiting\\anaconda3\\envs\\3dcv\\lib\\site-packages\\ipykernel_launcher.py:30: FutureWarning: `rcond` parameter will change to the default of machine precision times ``max(M, N)`` where M and N are the input matrix dimensions.\n",
      "To use the future default and silence this warning we advise to pass `rcond=None`, to keep using the old, explicitly pass `rcond=-1`.\n"
     ]
    }
   ],
   "source": [
    "Z_b = Z[:, :, 0]\n",
    "g_b, _ = gsolve(Z_b, np.log(exposure_times), l, w)"
   ]
  },
  {
   "cell_type": "markdown",
   "id": "valuable-confidence",
   "metadata": {},
   "source": [
    "## Plot Curves"
   ]
  },
  {
   "cell_type": "code",
   "execution_count": 14,
   "id": "arranged-verse",
   "metadata": {},
   "outputs": [
    {
     "data": {
      "image/png": "[encoded data removed]",
      "text/plain": [
       "<Figure size 432x288 with 1 Axes>"
      ]
     },
     "metadata": {
      "needs_background": "light"
     },
     "output_type": "display_data"
    }
   ],
   "source": [
    "x_axis = [i for i in range(0, 256)]\n",
    "plt.figure()\n",
    "plt.plot(x_axis, g_r, label='r channel', color='r')\n",
    "plt.plot(x_axis, g_g, label='g channel', color='g')\n",
    "plt.plot(x_axis, g_b, label='b channel', color='b')\n",
    "plt.xlabel('pixel value')\n",
    "plt.ylabel('log exposure')\n",
    "plt.show()"
   ]
  },
  {
   "cell_type": "code",
   "execution_count": null,
   "id": "resident-museum",
   "metadata": {},
   "outputs": [],
   "source": []
  }
 ],
 "metadata": {
  "kernelspec": {
   "display_name": "Python 3",
   "language": "python",
   "name": "python3"
  },
  "language_info": {
   "codemirror_mode": {
    "name": "ipython",
    "version": 3
   },
   "file_extension": ".py",
   "mimetype": "text/x-python",
   "name": "python",
   "nbconvert_exporter": "python",
   "pygments_lexer": "ipython3",
   "version": "3.7.10"
  }
 },
 "nbformat": 4,
 "nbformat_minor": 5
}
