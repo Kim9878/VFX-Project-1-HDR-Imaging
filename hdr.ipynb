{
 "cells": [
  {
   "cell_type": "code",
   "execution_count": 1,
   "id": "naked-sender",
   "metadata": {},
   "outputs": [],
   "source": [
    "import os\n",
    "import cv2\n",
    "import numpy as np\n",
    "from PIL import Image\n",
    "from PIL.ExifTags import TAGS\n",
    "import matplotlib.pyplot as plt\n",
    "from tqdm import tqdm"
   ]
  },
  {
   "cell_type": "code",
   "execution_count": 2,
   "id": "breathing-hobby",
   "metadata": {},
   "outputs": [],
   "source": [
    "img_root = './HDR-master/test_image/1'\n",
    "img_names = ['DSC_0765.JPG', 'DSC_0766.JPG', 'DSC_0767.JPG', \\\n",
    "             'DSC_0768.JPG', 'DSC_0769.JPG', 'DSC_0770.JPG', \\\n",
    "             'DSC_0771.JPG', 'DSC_0772.JPG', 'DSC_0773.JPG', \\\n",
    "             'DSC_0774.JPG']\n",
    "\n",
    "N = 50\n",
    "l = 10"
   ]
  },
  {
   "cell_type": "code",
   "execution_count": 3,
   "id": "genuine-calculator",
   "metadata": {},
   "outputs": [],
   "source": [
    "def getExif(img_path, tag):\n",
    "    img = Image.open(img_path)\n",
    "    exifdata = img.getexif()\n",
    "    for tag_id in exifdata:\n",
    "        tag_name = TAGS.get(tag_id, tag_id)\n",
    "        if tag_name == tag:\n",
    "            data = exifdata.get(tag_id)\n",
    "            if isinstance(data, bytes):\n",
    "                data = data.decode()\n",
    "            return data\n",
    "    return None"
   ]
  },
  {
   "cell_type": "code",
   "execution_count": 4,
   "id": "legislative-proposal",
   "metadata": {},
   "outputs": [],
   "source": [
    "src_imgs = []\n",
    "for img_name in img_names:\n",
    "    src_img = cv2.imread(os.path.join(img_root, img_name))\n",
    "    src_imgs.append(src_img)"
   ]
  },
  {
   "cell_type": "code",
   "execution_count": 5,
   "id": "arbitrary-attitude",
   "metadata": {},
   "outputs": [],
   "source": [
    "exposure_times = []\n",
    "for img_name in img_names:\n",
    "    exposure_time = getExif(os.path.join(img_root, img_name), \"ExposureTime\")\n",
    "    exposure_times.append(float(exposure_time))"
   ]
  },
  {
   "cell_type": "code",
   "execution_count": 6,
   "id": "durable-agreement",
   "metadata": {},
   "outputs": [],
   "source": [
    "def gsolve(Z, B, l, w):\n",
    "    n = 256\n",
    "    N, P = Z.shape[:2]\n",
    "    \n",
    "    A = np.zeros([N*P+n+1, n+N])\n",
    "    b = np.zeros([A.shape[0], 1])\n",
    "    \n",
    "    # include the data-fitting equations\n",
    "    k = 0\n",
    "    for i in range(N):\n",
    "        for j in range(P):\n",
    "            wij = w[Z[i, j]]\n",
    "            A[k, Z[i, j]] = wij\n",
    "            A[k, n+i] = -wij\n",
    "            b[k, 0] = wij * B[j]\n",
    "            k = k + 1\n",
    "    \n",
    "    # fix the curve by setting its middle value to 0\n",
    "    A[k, 127] = 1\n",
    "    k = k + 1\n",
    "    \n",
    "    # include the smoothness equations\n",
    "    for i in range(n-2):\n",
    "        A[k, i] = l * w[i+1]\n",
    "        A[k, i+1] = -2 * l * w[i+1]\n",
    "        A[k, i+2] = l * w[i+1]\n",
    "        k = k + 1\n",
    "    \n",
    "    # solve the system using SVD\n",
    "    x = np.linalg.lstsq(A, b)[0]\n",
    "    g = x[:n]\n",
    "    lE = x[n+1:]\n",
    "    \n",
    "    return g, lE"
   ]
  },
  {
   "cell_type": "code",
   "execution_count": 7,
   "id": "considerable-chicago",
   "metadata": {},
   "outputs": [],
   "source": [
    "def genlE(Z, B, g, w):\n",
    "    P, height, width = Z.shape\n",
    "    Z = Z.reshape([P, -1])\n",
    "    lE = np.zeros([height * width]);\n",
    "    for i in range(Z.shape[1]):\n",
    "        n, d = 0, 0\n",
    "        for j in range(P):\n",
    "            z = Z[j][i]\n",
    "            n += w[z] * (g[z] - B[j])\n",
    "            d += w[z]\n",
    "        lE[i] = n / d if d > 0 else n\n",
    "    lE = lE.reshape([height, width])\n",
    "    return lE"
   ]
  },
  {
   "cell_type": "code",
   "execution_count": 8,
   "id": "designed-refrigerator",
   "metadata": {},
   "outputs": [],
   "source": [
    "height, width = src_imgs[0].shape[:2]\n",
    "sample_index = np.random.randint(min(height, width), size=(N, 2))"
   ]
  },
  {
   "cell_type": "code",
   "execution_count": 9,
   "id": "casual-fusion",
   "metadata": {},
   "outputs": [],
   "source": [
    "Z = np.zeros([N, len(src_imgs), 3])\n",
    "for i in range(N):\n",
    "    for j in range(len(src_imgs)):\n",
    "        Z[i][j] = src_imgs[j][sample_index[i][0], sample_index[i][1]]\n",
    "Z = Z.astype(int)\n",
    "\n",
    "w = np.zeros([256])\n",
    "for i in range(256):\n",
    "    if i <= 127:\n",
    "        w[i] = i\n",
    "    else:\n",
    "        w[i] = 255 - i"
   ]
  },
  {
   "cell_type": "markdown",
   "id": "sitting-wedding",
   "metadata": {},
   "source": [
    "## Calculate R Channel"
   ]
  },
  {
   "cell_type": "code",
   "execution_count": 10,
   "id": "chronic-birth",
   "metadata": {},
   "outputs": [
    {
     "name": "stderr",
     "output_type": "stream",
     "text": [
      "/opt/anaconda3/envs/3dcv/lib/python3.7/site-packages/ipykernel_launcher.py:30: FutureWarning: `rcond` parameter will change to the default of machine precision times ``max(M, N)`` where M and N are the input matrix dimensions.\n",
      "To use the future default and silence this warning we advise to pass `rcond=None`, to keep using the old, explicitly pass `rcond=-1`.\n"
     ]
    }
   ],
   "source": [
    "Z_r = Z[:, :, 2]\n",
    "g_r, _ = gsolve(Z_r, np.log(exposure_times), l, w)"
   ]
  },
  {
   "cell_type": "markdown",
   "id": "distinguished-orbit",
   "metadata": {},
   "source": [
    "## Calculate G Channel"
   ]
  },
  {
   "cell_type": "code",
   "execution_count": 11,
   "id": "ahead-soviet",
   "metadata": {},
   "outputs": [
    {
     "name": "stderr",
     "output_type": "stream",
     "text": [
      "/opt/anaconda3/envs/3dcv/lib/python3.7/site-packages/ipykernel_launcher.py:30: FutureWarning: `rcond` parameter will change to the default of machine precision times ``max(M, N)`` where M and N are the input matrix dimensions.\n",
      "To use the future default and silence this warning we advise to pass `rcond=None`, to keep using the old, explicitly pass `rcond=-1`.\n"
     ]
    }
   ],
   "source": [
    "Z_g = Z[:, :, 1]\n",
    "g_g, _ = gsolve(Z_g, np.log(exposure_times), l, w)"
   ]
  },
  {
   "cell_type": "markdown",
   "id": "stuck-brave",
   "metadata": {},
   "source": [
    "## Calculate B Channel"
   ]
  },
  {
   "cell_type": "code",
   "execution_count": 12,
   "id": "meaningful-equity",
   "metadata": {},
   "outputs": [
    {
     "name": "stderr",
     "output_type": "stream",
     "text": [
      "/opt/anaconda3/envs/3dcv/lib/python3.7/site-packages/ipykernel_launcher.py:30: FutureWarning: `rcond` parameter will change to the default of machine precision times ``max(M, N)`` where M and N are the input matrix dimensions.\n",
      "To use the future default and silence this warning we advise to pass `rcond=None`, to keep using the old, explicitly pass `rcond=-1`.\n"
     ]
    }
   ],
   "source": [
    "Z_b = Z[:, :, 0]\n",
    "g_b, _ = gsolve(Z_b, np.log(exposure_times), l, w)"
   ]
  },
  {
   "cell_type": "markdown",
   "id": "structural-darwin",
   "metadata": {},
   "source": [
    "## Plot Curves"
   ]
  },
  {
   "cell_type": "code",
   "execution_count": 13,
   "id": "alone-royalty",
   "metadata": {},
   "outputs": [
    {
     "data": {
      "image/png": "[encoded data removed]",
      "text/plain": [
       "<Figure size 432x288 with 1 Axes>"
      ]
     },
     "metadata": {
      "needs_background": "light"
     },
     "output_type": "display_data"
    }
   ],
   "source": [
    "x_axis = [i for i in range(0, 256)]\n",
    "plt.figure()\n",
    "plt.plot(x_axis, g_r, label='r channel', color='r')\n",
    "plt.plot(x_axis, g_g, label='g channel', color='g')\n",
    "plt.plot(x_axis, g_b, label='b channel', color='b')\n",
    "plt.xlabel('pixel value')\n",
    "plt.ylabel('log exposure')\n",
    "plt.show()"
   ]
  },
  {
   "cell_type": "markdown",
   "id": "flexible-webster",
   "metadata": {},
   "source": [
    "## Generate HDR Image"
   ]
  },
  {
   "cell_type": "code",
   "execution_count": 14,
   "id": "billion-biodiversity",
   "metadata": {},
   "outputs": [],
   "source": [
    "imgs = np.array(src_imgs)\n",
    "Z_r = imgs[:, :, :, 2]\n",
    "lE_r = genlE(Z_r.copy(), np.log(exposure_times), g_r, w)"
   ]
  },
  {
   "cell_type": "code",
   "execution_count": 15,
   "id": "after-helping",
   "metadata": {},
   "outputs": [],
   "source": [
    "Z_g = imgs[:, :, :, 1]\n",
    "lE_g = genlE(Z_g.copy(), np.log(exposure_times), g_g, w)"
   ]
  },
  {
   "cell_type": "code",
   "execution_count": 16,
   "id": "present-speed",
   "metadata": {},
   "outputs": [],
   "source": [
    "Z_b = imgs[:, :, :, 0]\n",
    "lE_b = genlE(Z_b.copy(), np.log(exposure_times), g_b, w)"
   ]
  },
  {
   "cell_type": "code",
   "execution_count": 17,
   "id": "powerful-midwest",
   "metadata": {},
   "outputs": [],
   "source": [
    "E = np.zeros([height, width, 3])\n",
    "E[:, :, 0] = lE_b\n",
    "E[:, :, 1] = lE_g\n",
    "E[:, :, 2] = lE_r\n",
    "E = np.exp(E)"
   ]
  },
  {
   "cell_type": "code",
   "execution_count": 24,
   "id": "framed-thumbnail",
   "metadata": {},
   "outputs": [
    {
     "data": {
      "text/plain": [
       "Text(0.5, 1.0, 'Radiance Map')"
      ]
     },
     "execution_count": 24,
     "metadata": {},
     "output_type": "execute_result"
    },
    {
     "data": {
      "image/png": "[encoded data removed]",
      "text/plain": [
       "<Figure size 432x288 with 2 Axes>"
      ]
     },
     "metadata": {
      "needs_background": "light"
     },
     "output_type": "display_data"
    }
   ],
   "source": [
    "plt.imshow(E[:, :, 0], origin=\"lower\", cmap='rainbow', interpolation='nearest')\n",
    "# plt.clim(np.min(E[:, :, 0]), 1000)\n",
    "plt.gca().invert_yaxis()\n",
    "plt.colorbar()\n",
    "plt.title(\"Radiance Map\")"
   ]
  },
  {
   "cell_type": "code",
   "execution_count": 47,
   "id": "appropriate-artist",
   "metadata": {},
   "outputs": [
    {
     "data": {
      "text/plain": [
       "True"
      ]
     },
     "execution_count": 47,
     "metadata": {},
     "output_type": "execute_result"
    }
   ],
   "source": [
    "cv2.imwrite('./output/1.hdr', E)"
   ]
  },
  {
   "cell_type": "markdown",
   "id": "hired-disposal",
   "metadata": {},
   "source": [
    "## Tone Mapping"
   ]
  },
  {
   "cell_type": "code",
   "execution_count": 25,
   "id": "formed-grass",
   "metadata": {},
   "outputs": [],
   "source": [
    "def gaussian(x, sig):\n",
    "    return np.exp(-np.power(x, 2.) / (2 * np.power(sig, 2.))) * (1.0 / (2 * np.pi * (sig ** 2)))"
   ]
  },
  {
   "cell_type": "code",
   "execution_count": 40,
   "id": "numeric-nirvana",
   "metadata": {},
   "outputs": [],
   "source": [
    "def output_rescale_all(image, origin_images, W):\n",
    "    b, g, r = cv2.split(image)\n",
    "    mean_image = np.zeros((image.shape[0], image.shape[1], 3))\n",
    "    print(\"------------ rescaling output ------------\")\n",
    "    for i in tqdm(range(image.shape[0])):\n",
    "        for j in range(image.shape[1]):\n",
    "            for k in range(3):\n",
    "                wsum = 0\n",
    "                pixelvalue = 0\n",
    "                for l in range(len(origin_images)):\n",
    "                    w = W[origin_images[l][i, j, k]]\n",
    "                    pixelvalue += w * origin_images[l][i, j, k]\n",
    "                    wsum += w\n",
    "                mean_image[i, j, k] = pixelvalue / wsum\n",
    "    b2, g2, r2 = cv2.split(mean_image)\n",
    "    print(np.min(b), np.min(g), np.min(r))\n",
    "    b *= np.average(b2) / np.nanmean(b)\n",
    "    g *= np.average(g2) / np.nanmean(g)\n",
    "    r *= np.average(r2) / np.nanmean(r)\n",
    "    image = cv2.merge((b,g,r))\n",
    "    return image"
   ]
  },
  {
   "cell_type": "code",
   "execution_count": 30,
   "id": "photographic-employee",
   "metadata": {},
   "outputs": [],
   "source": [
    "def bilateral_filter(log_intensity, x, y, filter_size=5):\n",
    "    k = 0\n",
    "    output = 0\n",
    "    sigma_g = 2000\n",
    "    sigma_f = 1000\n",
    "    for i in range(filter_size):\n",
    "        for j in range(filter_size):\n",
    "            movei = i - filter_size // 2\n",
    "            movej = j - filter_size // 2\n",
    "            if x + movei >= log_intensity.shape[0] or x + movei < 0 or y + movej >= log_intensity.shape[1] or y + movej < 0:\n",
    "                continue\n",
    "            f = gaussian(np.sqrt(movei ** 2 + movej ** 2), sigma_f)\n",
    "            g = gaussian(log_intensity[x][y] - log_intensity[x + movei][y + movej], sigma_g)\n",
    "            k += f * g\n",
    "            output += f * g * log_intensity[x + movei][y + movej]\n",
    "    output = output/k\n",
    "    return output"
   ]
  },
  {
   "cell_type": "code",
   "execution_count": 28,
   "id": "parental-preserve",
   "metadata": {},
   "outputs": [],
   "source": [
    "def bilateral(img, compression=0.8):\n",
    "    intensity = 0.0722*img[:, :, 0] + 0.7152*img[:, :, 1] + 0.2126*img[:, :, 2]\n",
    "    log_intensity = np.log(intensity)\n",
    "    log_large_scale = np.zeros(log_intensity.shape)\n",
    "    print(\"------------ tone mapping ------------\")\n",
    "    for i in tqdm(range(log_large_scale.shape[0])):\n",
    "        for j in range(log_large_scale.shape[1]):\n",
    "            log_large_scale[i, j] = bilateral_filter(log_intensity, i, j)\n",
    "    log_detail = log_intensity - log_large_scale\n",
    "    log_output = log_large_scale * compression + log_detail\n",
    "    output = np.zeros((img.shape[0], img.shape[1], 3))\n",
    "    output[:, :, 0] = img[:, :, 0]/intensity * np.exp(log_output)\n",
    "    output[:, :, 1] = img[:, :, 1]/intensity * np.exp(log_output)\n",
    "    output[:, :, 2] = img[:, :, 2]/intensity * np.exp(log_output)\n",
    "    return output"
   ]
  },
  {
   "cell_type": "code",
   "execution_count": 36,
   "id": "under-native",
   "metadata": {},
   "outputs": [
    {
     "name": "stderr",
     "output_type": "stream",
     "text": [
      "  0%|          | 0/1000 [00:00<?, ?it/s]"
     ]
    },
    {
     "name": "stdout",
     "output_type": "stream",
     "text": [
      "------------ tone mapping ------------\n"
     ]
    },
    {
     "name": "stderr",
     "output_type": "stream",
     "text": [
      "  8%|▊         | 75/1000 [00:51<10:35,  1.45it/s]\n"
     ]
    },
    {
     "ename": "KeyboardInterrupt",
     "evalue": "",
     "output_type": "error",
     "traceback": [
      "\u001b[0;31m---------------------------------------------------------------------------\u001b[0m",
      "\u001b[0;31mKeyboardInterrupt\u001b[0m                         Traceback (most recent call last)",
      "\u001b[0;32m<ipython-input-36-34da7c01f03e>\u001b[0m in \u001b[0;36m<module>\u001b[0;34m\u001b[0m\n\u001b[0;32m----> 1\u001b[0;31m \u001b[0moutput\u001b[0m \u001b[0;34m=\u001b[0m \u001b[0mbilateral\u001b[0m\u001b[0;34m(\u001b[0m\u001b[0mE\u001b[0m\u001b[0;34m)\u001b[0m\u001b[0;34m\u001b[0m\u001b[0;34m\u001b[0m\u001b[0m\n\u001b[0m",
      "\u001b[0;32m<ipython-input-28-44e25636f1aa>\u001b[0m in \u001b[0;36mbilateral\u001b[0;34m(img, compression)\u001b[0m\n\u001b[1;32m      6\u001b[0m     \u001b[0;32mfor\u001b[0m \u001b[0mi\u001b[0m \u001b[0;32min\u001b[0m \u001b[0mtqdm\u001b[0m\u001b[0;34m(\u001b[0m\u001b[0mrange\u001b[0m\u001b[0;34m(\u001b[0m\u001b[0mlog_large_scale\u001b[0m\u001b[0;34m.\u001b[0m\u001b[0mshape\u001b[0m\u001b[0;34m[\u001b[0m\u001b[0;36m0\u001b[0m\u001b[0;34m]\u001b[0m\u001b[0;34m)\u001b[0m\u001b[0;34m)\u001b[0m\u001b[0;34m:\u001b[0m\u001b[0;34m\u001b[0m\u001b[0;34m\u001b[0m\u001b[0m\n\u001b[1;32m      7\u001b[0m         \u001b[0;32mfor\u001b[0m \u001b[0mj\u001b[0m \u001b[0;32min\u001b[0m \u001b[0mrange\u001b[0m\u001b[0;34m(\u001b[0m\u001b[0mlog_large_scale\u001b[0m\u001b[0;34m.\u001b[0m\u001b[0mshape\u001b[0m\u001b[0;34m[\u001b[0m\u001b[0;36m1\u001b[0m\u001b[0;34m]\u001b[0m\u001b[0;34m)\u001b[0m\u001b[0;34m:\u001b[0m\u001b[0;34m\u001b[0m\u001b[0;34m\u001b[0m\u001b[0m\n\u001b[0;32m----> 8\u001b[0;31m             \u001b[0mlog_large_scale\u001b[0m\u001b[0;34m[\u001b[0m\u001b[0mi\u001b[0m\u001b[0;34m,\u001b[0m \u001b[0mj\u001b[0m\u001b[0;34m]\u001b[0m \u001b[0;34m=\u001b[0m \u001b[0mbilateral_filter\u001b[0m\u001b[0;34m(\u001b[0m\u001b[0mlog_intensity\u001b[0m\u001b[0;34m,\u001b[0m \u001b[0mi\u001b[0m\u001b[0;34m,\u001b[0m \u001b[0mj\u001b[0m\u001b[0;34m)\u001b[0m\u001b[0;34m\u001b[0m\u001b[0;34m\u001b[0m\u001b[0m\n\u001b[0m\u001b[1;32m      9\u001b[0m     \u001b[0mlog_detail\u001b[0m \u001b[0;34m=\u001b[0m \u001b[0mlog_intensity\u001b[0m \u001b[0;34m-\u001b[0m \u001b[0mlog_large_scale\u001b[0m\u001b[0;34m\u001b[0m\u001b[0;34m\u001b[0m\u001b[0m\n\u001b[1;32m     10\u001b[0m     \u001b[0mlog_output\u001b[0m \u001b[0;34m=\u001b[0m \u001b[0mlog_large_scale\u001b[0m \u001b[0;34m*\u001b[0m \u001b[0mcompression\u001b[0m \u001b[0;34m+\u001b[0m \u001b[0mlog_detail\u001b[0m\u001b[0;34m\u001b[0m\u001b[0;34m\u001b[0m\u001b[0m\n",
      "\u001b[0;32m<ipython-input-30-471176d3484b>\u001b[0m in \u001b[0;36mbilateral_filter\u001b[0;34m(log_intensity, x, y, filter_size)\u001b[0m\n\u001b[1;32m     10\u001b[0m             \u001b[0;32mif\u001b[0m \u001b[0mx\u001b[0m \u001b[0;34m+\u001b[0m \u001b[0mmovei\u001b[0m \u001b[0;34m>=\u001b[0m \u001b[0mlog_intensity\u001b[0m\u001b[0;34m.\u001b[0m\u001b[0mshape\u001b[0m\u001b[0;34m[\u001b[0m\u001b[0;36m0\u001b[0m\u001b[0;34m]\u001b[0m \u001b[0;32mor\u001b[0m \u001b[0mx\u001b[0m \u001b[0;34m+\u001b[0m \u001b[0mmovei\u001b[0m \u001b[0;34m<\u001b[0m \u001b[0;36m0\u001b[0m \u001b[0;32mor\u001b[0m \u001b[0my\u001b[0m \u001b[0;34m+\u001b[0m \u001b[0mmovej\u001b[0m \u001b[0;34m>=\u001b[0m \u001b[0mlog_intensity\u001b[0m\u001b[0;34m.\u001b[0m\u001b[0mshape\u001b[0m\u001b[0;34m[\u001b[0m\u001b[0;36m1\u001b[0m\u001b[0;34m]\u001b[0m \u001b[0;32mor\u001b[0m \u001b[0my\u001b[0m \u001b[0;34m+\u001b[0m \u001b[0mmovej\u001b[0m \u001b[0;34m<\u001b[0m \u001b[0;36m0\u001b[0m\u001b[0;34m:\u001b[0m\u001b[0;34m\u001b[0m\u001b[0;34m\u001b[0m\u001b[0m\n\u001b[1;32m     11\u001b[0m                 \u001b[0;32mcontinue\u001b[0m\u001b[0;34m\u001b[0m\u001b[0;34m\u001b[0m\u001b[0m\n\u001b[0;32m---> 12\u001b[0;31m             \u001b[0mf\u001b[0m \u001b[0;34m=\u001b[0m \u001b[0mgaussian\u001b[0m\u001b[0;34m(\u001b[0m\u001b[0mnp\u001b[0m\u001b[0;34m.\u001b[0m\u001b[0msqrt\u001b[0m\u001b[0;34m(\u001b[0m\u001b[0mmovei\u001b[0m \u001b[0;34m**\u001b[0m \u001b[0;36m2\u001b[0m \u001b[0;34m+\u001b[0m \u001b[0mmovej\u001b[0m \u001b[0;34m**\u001b[0m \u001b[0;36m2\u001b[0m\u001b[0;34m)\u001b[0m\u001b[0;34m,\u001b[0m \u001b[0msigma_f\u001b[0m\u001b[0;34m)\u001b[0m\u001b[0;34m\u001b[0m\u001b[0;34m\u001b[0m\u001b[0m\n\u001b[0m\u001b[1;32m     13\u001b[0m             \u001b[0mg\u001b[0m \u001b[0;34m=\u001b[0m \u001b[0mgaussian\u001b[0m\u001b[0;34m(\u001b[0m\u001b[0mlog_intensity\u001b[0m\u001b[0;34m[\u001b[0m\u001b[0mx\u001b[0m\u001b[0;34m]\u001b[0m\u001b[0;34m[\u001b[0m\u001b[0my\u001b[0m\u001b[0;34m]\u001b[0m \u001b[0;34m-\u001b[0m \u001b[0mlog_intensity\u001b[0m\u001b[0;34m[\u001b[0m\u001b[0mx\u001b[0m \u001b[0;34m+\u001b[0m \u001b[0mmovei\u001b[0m\u001b[0;34m]\u001b[0m\u001b[0;34m[\u001b[0m\u001b[0my\u001b[0m \u001b[0;34m+\u001b[0m \u001b[0mmovej\u001b[0m\u001b[0;34m]\u001b[0m\u001b[0;34m,\u001b[0m \u001b[0msigma_g\u001b[0m\u001b[0;34m)\u001b[0m\u001b[0;34m\u001b[0m\u001b[0;34m\u001b[0m\u001b[0m\n\u001b[1;32m     14\u001b[0m             \u001b[0mk\u001b[0m \u001b[0;34m+=\u001b[0m \u001b[0mf\u001b[0m \u001b[0;34m*\u001b[0m \u001b[0mg\u001b[0m\u001b[0;34m\u001b[0m\u001b[0;34m\u001b[0m\u001b[0m\n",
      "\u001b[0;32m<ipython-input-25-ff80dc7b864e>\u001b[0m in \u001b[0;36mgaussian\u001b[0;34m(x, sig)\u001b[0m\n\u001b[1;32m      1\u001b[0m \u001b[0;32mdef\u001b[0m \u001b[0mgaussian\u001b[0m\u001b[0;34m(\u001b[0m\u001b[0mx\u001b[0m\u001b[0;34m,\u001b[0m \u001b[0msig\u001b[0m\u001b[0;34m)\u001b[0m\u001b[0;34m:\u001b[0m\u001b[0;34m\u001b[0m\u001b[0;34m\u001b[0m\u001b[0m\n\u001b[0;32m----> 2\u001b[0;31m     \u001b[0;32mreturn\u001b[0m \u001b[0mnp\u001b[0m\u001b[0;34m.\u001b[0m\u001b[0mexp\u001b[0m\u001b[0;34m(\u001b[0m\u001b[0;34m-\u001b[0m\u001b[0mnp\u001b[0m\u001b[0;34m.\u001b[0m\u001b[0mpower\u001b[0m\u001b[0;34m(\u001b[0m\u001b[0mx\u001b[0m\u001b[0;34m,\u001b[0m \u001b[0;36m2.\u001b[0m\u001b[0;34m)\u001b[0m \u001b[0;34m/\u001b[0m \u001b[0;34m(\u001b[0m\u001b[0;36m2\u001b[0m \u001b[0;34m*\u001b[0m \u001b[0mnp\u001b[0m\u001b[0;34m.\u001b[0m\u001b[0mpower\u001b[0m\u001b[0;34m(\u001b[0m\u001b[0msig\u001b[0m\u001b[0;34m,\u001b[0m \u001b[0;36m2.\u001b[0m\u001b[0;34m)\u001b[0m\u001b[0;34m)\u001b[0m\u001b[0;34m)\u001b[0m \u001b[0;34m*\u001b[0m \u001b[0;34m(\u001b[0m\u001b[0;36m1.0\u001b[0m \u001b[0;34m/\u001b[0m \u001b[0;34m(\u001b[0m\u001b[0;36m2\u001b[0m \u001b[0;34m*\u001b[0m \u001b[0mnp\u001b[0m\u001b[0;34m.\u001b[0m\u001b[0mpi\u001b[0m \u001b[0;34m*\u001b[0m \u001b[0;34m(\u001b[0m\u001b[0msig\u001b[0m \u001b[0;34m**\u001b[0m \u001b[0;36m2\u001b[0m\u001b[0;34m)\u001b[0m\u001b[0;34m)\u001b[0m\u001b[0;34m)\u001b[0m\u001b[0;34m\u001b[0m\u001b[0;34m\u001b[0m\u001b[0m\n\u001b[0m",
      "\u001b[0;31mKeyboardInterrupt\u001b[0m: "
     ]
    }
   ],
   "source": [
    "output = bilateral(E)"
   ]
  },
  {
   "cell_type": "code",
   "execution_count": 34,
   "id": "suburban-aquatic",
   "metadata": {},
   "outputs": [
    {
     "name": "stderr",
     "output_type": "stream",
     "text": [
      "  0%|          | 0/1000 [00:00<?, ?it/s]"
     ]
    },
    {
     "name": "stdout",
     "output_type": "stream",
     "text": [
      "------------ tone mapping ------------\n"
     ]
    },
    {
     "name": "stderr",
     "output_type": "stream",
     "text": [
      "100%|██████████| 1000/1000 [11:13<00:00,  1.48it/s]\n",
      "  0%|          | 3/1000 [00:00<00:40, 24.66it/s]"
     ]
    },
    {
     "name": "stdout",
     "output_type": "stream",
     "text": [
      "[[2.37665935 2.38787565 2.41919609 ... 0.21805401 0.24089762 0.24348104]\n",
      " [2.37130124 2.39724676 2.39167839 ... 0.23003753 0.2435888  0.24288247]\n",
      " [2.39021594 2.41530236 2.42911641 ... 0.23784266 0.24421963 0.24284221]\n",
      " ...\n",
      " [0.6615936  0.65758265 0.65490624 ... 0.51874141 0.54506007 0.58149337]\n",
      " [0.65834405 0.66223115 0.6799905  ... 0.5993566  0.60973152 0.69547556]\n",
      " [0.76119371 0.75783769 0.81868524 ... 0.72604408 0.69497202 0.74478357]]\n",
      "[[2.28773386 2.29550317 2.32694444 ... 0.25499774 0.26591663 0.26617426]\n",
      " [2.30141958 2.31047153 2.31485536 ... 0.26460903 0.2681185  0.26798133]\n",
      " [2.33144874 2.34403266 2.34264699 ... 0.27180522 0.26630404 0.26236663]\n",
      " ...\n",
      " [0.83349205 0.8393252  0.85485853 ... 0.74619667 0.73436607 0.82029255]\n",
      " [0.92511117 0.93409572 0.95760263 ... 0.71869649 0.70585966 0.82725786]\n",
      " [0.99578195 0.99399208 1.04317359 ... 0.9275151  0.79891802 0.82889416]]\n",
      "[[1.82222708 1.83311949 1.83914803 ... 0.23988439 0.26088931 0.26234935]\n",
      " [1.83129725 1.84548319 1.83018108 ... 0.25174761 0.26336775 0.26291253]\n",
      " [1.83893758 1.85603592 1.85768857 ... 0.26016076 0.26276519 0.25920435]\n",
      " ...\n",
      " [0.76082985 0.76514407 0.7735002  ... 0.74517649 0.74335277 0.79363923]\n",
      " [0.80191383 0.81361487 0.83731833 ... 0.71384838 0.71357451 0.78261672]\n",
      " [0.8928476  0.8959536  0.93701436 ... 0.8615619  0.7774749  0.79617913]]\n",
      "------------ rescaling output ------------\n"
     ]
    },
    {
     "name": "stderr",
     "output_type": "stream",
     "text": [
      "  9%|▉         | 93/1000 [00:03<00:37, 24.31it/s]/opt/anaconda3/envs/3dcv/lib/python3.7/site-packages/ipykernel_launcher.py:14: RuntimeWarning: invalid value encountered in double_scalars\n",
      "  \n",
      "100%|██████████| 1000/1000 [00:41<00:00, 24.25it/s]\n"
     ]
    }
   ],
   "source": [
    "for i in range(3):\n",
    "    output[:, :, i] = cv2.normalize(output[:, :, i], np.array([]), alpha=0, beta=255, norm_type=cv2.NORM_MINMAX)"
   ]
  },
  {
   "cell_type": "code",
   "execution_count": 41,
   "id": "valid-hawaii",
   "metadata": {},
   "outputs": [
    {
     "name": "stderr",
     "output_type": "stream",
     "text": [
      "  0%|          | 3/1000 [00:00<00:45, 21.71it/s]"
     ]
    },
    {
     "name": "stdout",
     "output_type": "stream",
     "text": [
      "------------ rescaling output ------------\n"
     ]
    },
    {
     "name": "stderr",
     "output_type": "stream",
     "text": [
      "  9%|▉         | 93/1000 [00:03<00:39, 22.92it/s]/opt/anaconda3/envs/3dcv/lib/python3.7/site-packages/ipykernel_launcher.py:14: RuntimeWarning: invalid value encountered in double_scalars\n",
      "  \n",
      "100%|██████████| 1000/1000 [00:40<00:00, 24.59it/s]\n"
     ]
    },
    {
     "name": "stdout",
     "output_type": "stream",
     "text": [
      "2.849074691871627e-19 -6.914565463619122e-19 3.4919008928035302e-19\n"
     ]
    }
   ],
   "source": [
    "outputimg = output_rescale_all(output, src_imgs, w)"
   ]
  },
  {
   "cell_type": "code",
   "execution_count": 40,
   "id": "modern-proxy",
   "metadata": {},
   "outputs": [
    {
     "data": {
      "text/plain": [
       "48"
      ]
     },
     "execution_count": 40,
     "metadata": {},
     "output_type": "execute_result"
    }
   ],
   "source": [
    "cv2.imshow('tonemapping', outputimg*255)\n",
    "cv2.waitKey(0)"
   ]
  },
  {
   "cell_type": "code",
   "execution_count": null,
   "id": "mexican-winner",
   "metadata": {},
   "outputs": [],
   "source": []
  },
  {
   "cell_type": "markdown",
   "id": "stopped-capital",
   "metadata": {},
   "source": [
    "# Test OpenCV Tone Mapping Function"
   ]
  },
  {
   "cell_type": "code",
   "execution_count": 18,
   "id": "relative-produce",
   "metadata": {},
   "outputs": [],
   "source": [
    "def toneMappingReinhard(hdrImg):\n",
    "    tonemapReinhard = cv2.createTonemapReinhard(0.9,4,1,0) # gama, intensity, light_adapt, color_adapt\n",
    "    ldrReinhard = tonemapReinhard.process(hdrImg)\n",
    "    # Plot hdr images\n",
    "    ldrReinhard_rgb=ldrReinhard[:,:,::-1]\n",
    "    #fig5=plt.figure().suptitle('tone-mapped HDR image')\n",
    "    #plt.imshow(ldrReinhard_rgb)\n",
    "    subfig = plt.subplot(2,2,3)\n",
    "    subfig.set_title(\"Reinhard\")\n",
    "    subfig.imshow(ldrReinhard_rgb)\n",
    "    return ldrReinhard"
   ]
  },
  {
   "cell_type": "code",
   "execution_count": 22,
   "id": "silver-queen",
   "metadata": {},
   "outputs": [
    {
     "data": {
      "image/png": "[encoded data removed]",
      "text/plain": [
       "<Figure size 432x288 with 1 Axes>"
      ]
     },
     "metadata": {
      "needs_background": "light"
     },
     "output_type": "display_data"
    }
   ],
   "source": [
    "img = toneMappingReinhard(E.astype(np.float32))"
   ]
  }
 ],
 "metadata": {
  "kernelspec": {
   "display_name": "Python 3",
   "language": "python",
   "name": "python3"
  },
  "language_info": {
   "codemirror_mode": {
    "name": "ipython",
    "version": 3
   },
   "file_extension": ".py",
   "mimetype": "text/x-python",
   "name": "python",
   "nbconvert_exporter": "python",
   "pygments_lexer": "ipython3",
   "version": "3.7.10"
  }
 },
 "nbformat": 4,
 "nbformat_minor": 5
}
